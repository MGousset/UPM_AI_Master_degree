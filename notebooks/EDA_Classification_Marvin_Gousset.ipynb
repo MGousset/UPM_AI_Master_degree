{
  "nbformat": 4,
  "nbformat_minor": 0,
  "metadata": {
    "colab": {
      "name": "EDA_Classification_Marvin_Gousset.ipynb",
      "provenance": [],
      "collapsed_sections": []
    },
    "kernelspec": {
      "display_name": "Python 3",
      "language": "python",
      "name": "python3"
    },
    "language_info": {
      "codemirror_mode": {
        "name": "ipython",
        "version": 3
      },
      "file_extension": ".py",
      "mimetype": "text/x-python",
      "name": "python",
      "nbconvert_exporter": "python",
      "pygments_lexer": "ipython3",
      "version": "3.7.3"
    }
  },
  "cells": [
    {
      "cell_type": "code",
      "metadata": {
        "id": "29leoi91dnfV",
        "outputId": "d4d99991-19b9-43bf-f021-4dbfc6a1ef22",
        "colab": {
          "base_uri": "https://localhost:8080/"
        }
      },
      "source": [
        "#Define Constante\n",
        "DIR = \"/content/drive/MyDrive/Colab Notebooks/UPM/PRDL/EDA/\"\n",
        "\n",
        "#importation\n",
        "import statsmodels.api as sm\n",
        "import numpy as np\n",
        "from pandas.plotting import scatter_matrix\n",
        "from google.colab import drive\n",
        "import os\n",
        "import pandas as pd\n",
        "from sklearn.metrics import confusion_matrix, accuracy_score\n",
        "import matplotlib.pyplot as plt\n",
        "from sklearn import linear_model, neighbors, svm\n",
        "from sklearn.tree import DecisionTreeClassifier\n",
        "from sklearn.ensemble import RandomForestClassifier\n",
        "import math"
      ],
      "execution_count": 68,
      "outputs": [
        {
          "output_type": "stream",
          "name": "stderr",
          "text": [
            "/usr/local/lib/python3.7/dist-packages/statsmodels/tools/_testing.py:19: FutureWarning: pandas.util.testing is deprecated. Use the functions in the public API at pandas.testing instead.\n",
            "  import pandas.util.testing as tm\n"
          ]
        }
      ]
    },
    {
      "cell_type": "code",
      "metadata": {
        "id": "jxYNi82tdvch"
      },
      "source": [
        "def importData():\n",
        "  drive.mount(\"/content/drive\")\n",
        "  \n",
        "  #Change directory\n",
        "  os.chdir(DIR)\n",
        "\n",
        "  # Read Clinical Data\n",
        "  OSA_Clinical_df = pd.read_csv(\"OSA_DB_UPM_Clinical.csv\",sep=';',na_values=['-1'])\n",
        "  OSA_Clinical_df=OSA_Clinical_df.dropna()\n",
        "\n",
        "  # Now Read Demographical Information\n",
        "  OSA_Demo_df = pd.read_csv(\"OSA_DB_UPM_Age_Gender.csv\",na_values=['-1'])\n",
        "  OSA_Demo_df=OSA_Demo_df.dropna()\n",
        "\n",
        "  # JOIN OSA_Demo_df and OSA_Clinical_df\n",
        "  OSA_df = pd.merge(OSA_Clinical_df, OSA_Demo_df, on='ID', how='inner')\n",
        "\n",
        "  OSA_df['ID'] = OSA_df['ID'].astype('str')\n",
        "  OSA_df = OSA_df.set_index('ID')\n",
        "\n",
        "  #Only treat male gender\n",
        "  df_OSA_male = OSA_df.loc[OSA_df['Gender'] == 0]\n",
        "\n",
        "  conditions = [\n",
        "      (df_OSA_male['IAH'] <= 10),\n",
        "      (df_OSA_male['IAH'] > 10) & (df_OSA_male['IAH'] < 30),\n",
        "      (df_OSA_male['IAH'] >= 30)\n",
        "      ]\n",
        "\n",
        "  # create a list of the values we want to assign for each condition\n",
        "  values = ['Healthy', 'Mild', 'Severe']\n",
        "\n",
        "  # create a new column and use np.select to assign values to it using our lists as arguments\n",
        "  # NOTE: we use select() from numpy\n",
        "  df_OSA_male['OSA'] = np.select(conditions, values)\n",
        "\n",
        "  #Remove Mild class\n",
        "  df_OSA_male_extreme = df_OSA_male.loc[df_OSA_male['OSA'] != 'Mild']\n",
        "\n",
        "  #Creating BMI column\n",
        "  df_OSA_male_extreme['BMI'] =  df_OSA_male_extreme['Weight'] / (df_OSA_male_extreme['Height']/100.0)**2\n",
        "  df_OSA_male_extreme['Y'] = (df_OSA_male_extreme['OSA'] == 'Severe').astype(int)\n",
        "  return df_OSA_male_extreme"
      ],
      "execution_count": 123,
      "outputs": []
    },
    {
      "cell_type": "markdown",
      "metadata": {
        "id": "Vdcndnvsfppd"
      },
      "source": [
        "##Now We are going to explore the data (EDA)"
      ]
    },
    {
      "cell_type": "code",
      "metadata": {
        "colab": {
          "base_uri": "https://localhost:8080/",
          "height": 487
        },
        "id": "ZH74_oFueBDD",
        "outputId": "5da122cb-af72-4466-f804-a751017cfbcf"
      },
      "source": [
        "df = importData()\n",
        "df.groupby('OSA').describe()"
      ],
      "execution_count": 124,
      "outputs": [
        {
          "output_type": "stream",
          "name": "stdout",
          "text": [
            "Drive already mounted at /content/drive; to attempt to forcibly remount, call drive.mount(\"/content/drive\", force_remount=True).\n"
          ]
        },
        {
          "output_type": "stream",
          "name": "stderr",
          "text": [
            "/usr/local/lib/python3.7/dist-packages/ipykernel_launcher.py:35: SettingWithCopyWarning: \n",
            "A value is trying to be set on a copy of a slice from a DataFrame.\n",
            "Try using .loc[row_indexer,col_indexer] = value instead\n",
            "\n",
            "See the caveats in the documentation: https://pandas.pydata.org/pandas-docs/stable/user_guide/indexing.html#returning-a-view-versus-a-copy\n",
            "/usr/local/lib/python3.7/dist-packages/ipykernel_launcher.py:41: SettingWithCopyWarning: \n",
            "A value is trying to be set on a copy of a slice from a DataFrame.\n",
            "Try using .loc[row_indexer,col_indexer] = value instead\n",
            "\n",
            "See the caveats in the documentation: https://pandas.pydata.org/pandas-docs/stable/user_guide/indexing.html#returning-a-view-versus-a-copy\n",
            "/usr/local/lib/python3.7/dist-packages/ipykernel_launcher.py:42: SettingWithCopyWarning: \n",
            "A value is trying to be set on a copy of a slice from a DataFrame.\n",
            "Try using .loc[row_indexer,col_indexer] = value instead\n",
            "\n",
            "See the caveats in the documentation: https://pandas.pydata.org/pandas-docs/stable/user_guide/indexing.html#returning-a-view-versus-a-copy\n"
          ]
        },
        {
          "output_type": "execute_result",
          "data": {
            "text/html": [
              "<div>\n",
              "<style scoped>\n",
              "    .dataframe tbody tr th:only-of-type {\n",
              "        vertical-align: middle;\n",
              "    }\n",
              "\n",
              "    .dataframe tbody tr th {\n",
              "        vertical-align: top;\n",
              "    }\n",
              "\n",
              "    .dataframe thead tr th {\n",
              "        text-align: left;\n",
              "    }\n",
              "\n",
              "    .dataframe thead tr:last-of-type th {\n",
              "        text-align: right;\n",
              "    }\n",
              "</style>\n",
              "<table border=\"1\" class=\"dataframe\">\n",
              "  <thead>\n",
              "    <tr>\n",
              "      <th></th>\n",
              "      <th colspan=\"8\" halign=\"left\">IAH</th>\n",
              "      <th colspan=\"8\" halign=\"left\">Weight</th>\n",
              "      <th colspan=\"8\" halign=\"left\">Height</th>\n",
              "      <th colspan=\"8\" halign=\"left\">Cervical</th>\n",
              "      <th colspan=\"8\" halign=\"left\">Gender</th>\n",
              "      <th colspan=\"8\" halign=\"left\">Age</th>\n",
              "      <th colspan=\"8\" halign=\"left\">BMI</th>\n",
              "      <th colspan=\"8\" halign=\"left\">Y</th>\n",
              "    </tr>\n",
              "    <tr>\n",
              "      <th></th>\n",
              "      <th>count</th>\n",
              "      <th>mean</th>\n",
              "      <th>std</th>\n",
              "      <th>min</th>\n",
              "      <th>25%</th>\n",
              "      <th>50%</th>\n",
              "      <th>75%</th>\n",
              "      <th>max</th>\n",
              "      <th>count</th>\n",
              "      <th>mean</th>\n",
              "      <th>std</th>\n",
              "      <th>min</th>\n",
              "      <th>25%</th>\n",
              "      <th>50%</th>\n",
              "      <th>75%</th>\n",
              "      <th>max</th>\n",
              "      <th>count</th>\n",
              "      <th>mean</th>\n",
              "      <th>std</th>\n",
              "      <th>min</th>\n",
              "      <th>25%</th>\n",
              "      <th>50%</th>\n",
              "      <th>75%</th>\n",
              "      <th>max</th>\n",
              "      <th>count</th>\n",
              "      <th>mean</th>\n",
              "      <th>std</th>\n",
              "      <th>min</th>\n",
              "      <th>25%</th>\n",
              "      <th>50%</th>\n",
              "      <th>75%</th>\n",
              "      <th>max</th>\n",
              "      <th>count</th>\n",
              "      <th>mean</th>\n",
              "      <th>std</th>\n",
              "      <th>min</th>\n",
              "      <th>25%</th>\n",
              "      <th>50%</th>\n",
              "      <th>75%</th>\n",
              "      <th>max</th>\n",
              "      <th>count</th>\n",
              "      <th>mean</th>\n",
              "      <th>std</th>\n",
              "      <th>min</th>\n",
              "      <th>25%</th>\n",
              "      <th>50%</th>\n",
              "      <th>75%</th>\n",
              "      <th>max</th>\n",
              "      <th>count</th>\n",
              "      <th>mean</th>\n",
              "      <th>std</th>\n",
              "      <th>min</th>\n",
              "      <th>25%</th>\n",
              "      <th>50%</th>\n",
              "      <th>75%</th>\n",
              "      <th>max</th>\n",
              "      <th>count</th>\n",
              "      <th>mean</th>\n",
              "      <th>std</th>\n",
              "      <th>min</th>\n",
              "      <th>25%</th>\n",
              "      <th>50%</th>\n",
              "      <th>75%</th>\n",
              "      <th>max</th>\n",
              "    </tr>\n",
              "    <tr>\n",
              "      <th>OSA</th>\n",
              "      <th></th>\n",
              "      <th></th>\n",
              "      <th></th>\n",
              "      <th></th>\n",
              "      <th></th>\n",
              "      <th></th>\n",
              "      <th></th>\n",
              "      <th></th>\n",
              "      <th></th>\n",
              "      <th></th>\n",
              "      <th></th>\n",
              "      <th></th>\n",
              "      <th></th>\n",
              "      <th></th>\n",
              "      <th></th>\n",
              "      <th></th>\n",
              "      <th></th>\n",
              "      <th></th>\n",
              "      <th></th>\n",
              "      <th></th>\n",
              "      <th></th>\n",
              "      <th></th>\n",
              "      <th></th>\n",
              "      <th></th>\n",
              "      <th></th>\n",
              "      <th></th>\n",
              "      <th></th>\n",
              "      <th></th>\n",
              "      <th></th>\n",
              "      <th></th>\n",
              "      <th></th>\n",
              "      <th></th>\n",
              "      <th></th>\n",
              "      <th></th>\n",
              "      <th></th>\n",
              "      <th></th>\n",
              "      <th></th>\n",
              "      <th></th>\n",
              "      <th></th>\n",
              "      <th></th>\n",
              "      <th></th>\n",
              "      <th></th>\n",
              "      <th></th>\n",
              "      <th></th>\n",
              "      <th></th>\n",
              "      <th></th>\n",
              "      <th></th>\n",
              "      <th></th>\n",
              "      <th></th>\n",
              "      <th></th>\n",
              "      <th></th>\n",
              "      <th></th>\n",
              "      <th></th>\n",
              "      <th></th>\n",
              "      <th></th>\n",
              "      <th></th>\n",
              "      <th></th>\n",
              "      <th></th>\n",
              "      <th></th>\n",
              "      <th></th>\n",
              "      <th></th>\n",
              "      <th></th>\n",
              "      <th></th>\n",
              "      <th></th>\n",
              "    </tr>\n",
              "  </thead>\n",
              "  <tbody>\n",
              "    <tr>\n",
              "      <th>Healthy</th>\n",
              "      <td>132.0</td>\n",
              "      <td>5.046970</td>\n",
              "      <td>3.065305</td>\n",
              "      <td>0.0</td>\n",
              "      <td>2.600</td>\n",
              "      <td>4.85</td>\n",
              "      <td>8.0</td>\n",
              "      <td>10.0</td>\n",
              "      <td>132.0</td>\n",
              "      <td>85.901515</td>\n",
              "      <td>13.832620</td>\n",
              "      <td>61.0</td>\n",
              "      <td>75.0</td>\n",
              "      <td>85.0</td>\n",
              "      <td>92.25</td>\n",
              "      <td>140.0</td>\n",
              "      <td>132.0</td>\n",
              "      <td>175.606061</td>\n",
              "      <td>7.711157</td>\n",
              "      <td>160.0</td>\n",
              "      <td>170.0</td>\n",
              "      <td>175.0</td>\n",
              "      <td>180.0</td>\n",
              "      <td>195.0</td>\n",
              "      <td>132.0</td>\n",
              "      <td>40.825758</td>\n",
              "      <td>2.810819</td>\n",
              "      <td>35.0</td>\n",
              "      <td>39.0</td>\n",
              "      <td>41.0</td>\n",
              "      <td>43.0</td>\n",
              "      <td>50.0</td>\n",
              "      <td>132.0</td>\n",
              "      <td>0.0</td>\n",
              "      <td>0.0</td>\n",
              "      <td>0.0</td>\n",
              "      <td>0.0</td>\n",
              "      <td>0.0</td>\n",
              "      <td>0.0</td>\n",
              "      <td>0.0</td>\n",
              "      <td>132.0</td>\n",
              "      <td>43.704545</td>\n",
              "      <td>11.223434</td>\n",
              "      <td>22.0</td>\n",
              "      <td>35.0</td>\n",
              "      <td>41.5</td>\n",
              "      <td>52.25</td>\n",
              "      <td>75.0</td>\n",
              "      <td>132.0</td>\n",
              "      <td>27.845923</td>\n",
              "      <td>4.049776</td>\n",
              "      <td>20.619254</td>\n",
              "      <td>24.961156</td>\n",
              "      <td>26.868063</td>\n",
              "      <td>30.096999</td>\n",
              "      <td>43.428571</td>\n",
              "      <td>132.0</td>\n",
              "      <td>0.0</td>\n",
              "      <td>0.0</td>\n",
              "      <td>0.0</td>\n",
              "      <td>0.0</td>\n",
              "      <td>0.0</td>\n",
              "      <td>0.0</td>\n",
              "      <td>0.0</td>\n",
              "    </tr>\n",
              "    <tr>\n",
              "      <th>Severe</th>\n",
              "      <td>128.0</td>\n",
              "      <td>45.053594</td>\n",
              "      <td>14.186095</td>\n",
              "      <td>30.0</td>\n",
              "      <td>34.225</td>\n",
              "      <td>40.40</td>\n",
              "      <td>53.0</td>\n",
              "      <td>102.0</td>\n",
              "      <td>128.0</td>\n",
              "      <td>99.117188</td>\n",
              "      <td>21.006419</td>\n",
              "      <td>61.0</td>\n",
              "      <td>85.0</td>\n",
              "      <td>95.0</td>\n",
              "      <td>110.00</td>\n",
              "      <td>162.0</td>\n",
              "      <td>128.0</td>\n",
              "      <td>175.218750</td>\n",
              "      <td>7.091014</td>\n",
              "      <td>152.0</td>\n",
              "      <td>170.0</td>\n",
              "      <td>175.0</td>\n",
              "      <td>180.0</td>\n",
              "      <td>197.0</td>\n",
              "      <td>128.0</td>\n",
              "      <td>43.531250</td>\n",
              "      <td>3.466232</td>\n",
              "      <td>34.0</td>\n",
              "      <td>42.0</td>\n",
              "      <td>43.5</td>\n",
              "      <td>46.0</td>\n",
              "      <td>53.0</td>\n",
              "      <td>128.0</td>\n",
              "      <td>0.0</td>\n",
              "      <td>0.0</td>\n",
              "      <td>0.0</td>\n",
              "      <td>0.0</td>\n",
              "      <td>0.0</td>\n",
              "      <td>0.0</td>\n",
              "      <td>0.0</td>\n",
              "      <td>128.0</td>\n",
              "      <td>51.210938</td>\n",
              "      <td>12.191808</td>\n",
              "      <td>29.0</td>\n",
              "      <td>41.0</td>\n",
              "      <td>49.0</td>\n",
              "      <td>60.00</td>\n",
              "      <td>80.0</td>\n",
              "      <td>128.0</td>\n",
              "      <td>32.179833</td>\n",
              "      <td>6.028655</td>\n",
              "      <td>21.357796</td>\n",
              "      <td>28.058609</td>\n",
              "      <td>30.985601</td>\n",
              "      <td>35.093804</td>\n",
              "      <td>52.298554</td>\n",
              "      <td>128.0</td>\n",
              "      <td>1.0</td>\n",
              "      <td>0.0</td>\n",
              "      <td>1.0</td>\n",
              "      <td>1.0</td>\n",
              "      <td>1.0</td>\n",
              "      <td>1.0</td>\n",
              "      <td>1.0</td>\n",
              "    </tr>\n",
              "  </tbody>\n",
              "</table>\n",
              "</div>"
            ],
            "text/plain": [
              "           IAH                                      ...    Y                    \n",
              "         count       mean        std   min     25%  ...  min  25%  50%  75%  max\n",
              "OSA                                                 ...                         \n",
              "Healthy  132.0   5.046970   3.065305   0.0   2.600  ...  0.0  0.0  0.0  0.0  0.0\n",
              "Severe   128.0  45.053594  14.186095  30.0  34.225  ...  1.0  1.0  1.0  1.0  1.0\n",
              "\n",
              "[2 rows x 64 columns]"
            ]
          },
          "metadata": {},
          "execution_count": 124
        }
      ]
    },
    {
      "cell_type": "code",
      "metadata": {
        "colab": {
          "base_uri": "https://localhost:8080/",
          "height": 338
        },
        "id": "g275RueG3XDs",
        "outputId": "cbde0d69-a4d6-4f8e-d832-d9d15f6f6943"
      },
      "source": [
        "df.groupby('OSA')['BMI'].hist()"
      ],
      "execution_count": 125,
      "outputs": [
        {
          "output_type": "execute_result",
          "data": {
            "text/plain": [
              "OSA\n",
              "Healthy    AxesSubplot(0.125,0.125;0.775x0.755)\n",
              "Severe     AxesSubplot(0.125,0.125;0.775x0.755)\n",
              "Name: BMI, dtype: object"
            ]
          },
          "metadata": {},
          "execution_count": 125
        },
        {
          "output_type": "display_data",
          "data": {
            "image/png": "[encoded data removed]",
            "text/plain": [
              "<Figure size 432x288 with 1 Axes>"
            ]
          },
          "metadata": {
            "needs_background": "light"
          }
        }
      ]
    },
    {
      "cell_type": "code",
      "metadata": {
        "colab": {
          "base_uri": "https://localhost:8080/",
          "height": 435
        },
        "id": "Xvth3uGw7rk0",
        "outputId": "4519e1a3-d8ee-4646-f1b8-bb84c2b44bfe"
      },
      "source": [
        "df.boxplot(column='Age', by='OSA', figsize=(10 ,5))"
      ],
      "execution_count": 127,
      "outputs": [
        {
          "output_type": "stream",
          "name": "stderr",
          "text": [
            "/usr/local/lib/python3.7/dist-packages/numpy/core/_asarray.py:83: VisibleDeprecationWarning: Creating an ndarray from ragged nested sequences (which is a list-or-tuple of lists-or-tuples-or ndarrays with different lengths or shapes) is deprecated. If you meant to do this, you must specify 'dtype=object' when creating the ndarray\n",
            "  return array(a, dtype, copy=False, order=order)\n"
          ]
        },
        {
          "output_type": "execute_result",
          "data": {
            "text/plain": [
              "<matplotlib.axes._subplots.AxesSubplot at 0x7f6c0b902510>"
            ]
          },
          "metadata": {},
          "execution_count": 127
        },
        {
          "output_type": "display_data",
          "data": {
            "image/png": "[encoded data removed]",
            "text/plain": [
              "<Figure size 720x360 with 1 Axes>"
            ]
          },
          "metadata": {
            "needs_background": "light"
          }
        }
      ]
    },
    {
      "cell_type": "code",
      "metadata": {
        "id": "vsCqMORL3Azx",
        "outputId": "b0836255-2338-4db6-cc3a-4264d63c27a4",
        "colab": {
          "base_uri": "https://localhost:8080/",
          "height": 435
        }
      },
      "source": [
        "df.boxplot(column='BMI', by='OSA', figsize=(10 ,5))"
      ],
      "execution_count": 56,
      "outputs": [
        {
          "output_type": "stream",
          "name": "stderr",
          "text": [
            "/usr/local/lib/python3.7/dist-packages/numpy/core/_asarray.py:83: VisibleDeprecationWarning: Creating an ndarray from ragged nested sequences (which is a list-or-tuple of lists-or-tuples-or ndarrays with different lengths or shapes) is deprecated. If you meant to do this, you must specify 'dtype=object' when creating the ndarray\n",
            "  return array(a, dtype, copy=False, order=order)\n"
          ]
        },
        {
          "output_type": "execute_result",
          "data": {
            "text/plain": [
              "<matplotlib.axes._subplots.AxesSubplot at 0x7f6c248ec950>"
            ]
          },
          "metadata": {},
          "execution_count": 56
        },
        {
          "output_type": "display_data",
          "data": {
            "image/png": "[encoded data removed]",
            "text/plain": [
              "<Figure size 720x360 with 1 Axes>"
            ]
          },
          "metadata": {
            "needs_background": "light"
          }
        }
      ]
    },
    {
      "cell_type": "code",
      "metadata": {
        "id": "_fSE3teO3EPL",
        "outputId": "ded9a4f3-2f56-4cac-a952-40ef5bcb2b17",
        "colab": {
          "base_uri": "https://localhost:8080/",
          "height": 435
        }
      },
      "source": [
        "df.boxplot(column='Cervical', by='OSA', figsize=(10 ,5))"
      ],
      "execution_count": 57,
      "outputs": [
        {
          "output_type": "stream",
          "name": "stderr",
          "text": [
            "/usr/local/lib/python3.7/dist-packages/numpy/core/_asarray.py:83: VisibleDeprecationWarning: Creating an ndarray from ragged nested sequences (which is a list-or-tuple of lists-or-tuples-or ndarrays with different lengths or shapes) is deprecated. If you meant to do this, you must specify 'dtype=object' when creating the ndarray\n",
            "  return array(a, dtype, copy=False, order=order)\n"
          ]
        },
        {
          "output_type": "execute_result",
          "data": {
            "text/plain": [
              "<matplotlib.axes._subplots.AxesSubplot at 0x7f6c248f0590>"
            ]
          },
          "metadata": {},
          "execution_count": 57
        },
        {
          "output_type": "display_data",
          "data": {
            "image/png": "[encoded data removed]",
            "text/plain": [
              "<Figure size 720x360 with 1 Axes>"
            ]
          },
          "metadata": {
            "needs_background": "light"
          }
        }
      ]
    },
    {
      "cell_type": "markdown",
      "metadata": {
        "id": "9tgL-E4rCcSB"
      },
      "source": [
        "## T-test and Mann Whitneyu's test to mesure the dicriminant power of parameters"
      ]
    },
    {
      "cell_type": "code",
      "metadata": {
        "id": "3C3B63yc4hZ0",
        "colab": {
          "base_uri": "https://localhost:8080/"
        },
        "outputId": "3f03318f-ce0e-4953-cc2e-ab4d08f38d93"
      },
      "source": [
        "from scipy import stats\n",
        "for column in ['Age', 'BMI', 'Cervical']:\n",
        "  group1 = df.where(df.OSA== 'Healthy').dropna()[column]\n",
        "  group2 = df.where(df.OSA== 'Severe').dropna()[column]\n",
        "  t_test_p_value = stats.ttest_ind(group1,group2)[1]\n",
        "  mannWhitney_p_value = stats.mannwhitneyu(group1,group2)[1]\n",
        "  print('Variable :', column,', Same mean p-value =', t_test_p_value,\n",
        "        'Same distribution p-value =', mannWhitney_p_value)\n"
      ],
      "execution_count": 134,
      "outputs": [
        {
          "output_type": "stream",
          "name": "stdout",
          "text": [
            "Variable : Age , Same mean p-value = 4.7561243590568463e-07 Same distribution p-value = 6.038495596210771e-07\n",
            "Variable : BMI , Same mean p-value = 6.320437870715736e-11 Same distribution p-value = 2.258215034895147e-11\n",
            "Variable : Cervical , Same mean p-value = 3.5060457312045025e-11 Same distribution p-value = 2.6099508668554335e-11\n"
          ]
        }
      ]
    },
    {
      "cell_type": "markdown",
      "metadata": {
        "id": "_qz4VrXV3P-Q"
      },
      "source": [
        "### Individual linear regression on Age, BMI and Cervical"
      ]
    },
    {
      "cell_type": "code",
      "metadata": {
        "id": "gvFklkU6u9uc"
      },
      "source": [
        "def logistic_regression_test(predictor):\n",
        "  target = 'Y'\n",
        "\n",
        "  # Define the model\n",
        "  model = sm.Logit(y, df[predictor]).fit()\n",
        "\n",
        "  predictions = model.predict(df[predictor])\n",
        "  predictions  = (predictions > 0.5).astype(int)\n",
        "  acc = accuracy_score(y, predictions)\n",
        "  print(\"Logistic regression on :\", predictor)\n",
        "  print(model.summary())\n",
        "  print(\"\\nAccuracy :\", acc, \"\\n\\n\")"
      ],
      "execution_count": 128,
      "outputs": []
    },
    {
      "cell_type": "code",
      "metadata": {
        "colab": {
          "base_uri": "https://localhost:8080/"
        },
        "id": "wA8bugFQnEf0",
        "outputId": "9ef7582d-2316-4570-e2ce-baa6a319c709"
      },
      "source": [
        "#Define features and output\n",
        "predictors = ['Age', 'BMI', 'Cervical']\n",
        "for predictor in predictors:\n",
        "  logistic_regression_test(predictor)"
      ],
      "execution_count": 129,
      "outputs": [
        {
          "output_type": "stream",
          "name": "stdout",
          "text": [
            "Optimization terminated successfully.\n",
            "         Current function value: 0.691239\n",
            "         Iterations 3\n",
            "Logistic regression on : Age\n",
            "                           Logit Regression Results                           \n",
            "==============================================================================\n",
            "Dep. Variable:                    OSA   No. Observations:                  260\n",
            "Model:                          Logit   Df Residuals:                      259\n",
            "Method:                           MLE   Df Model:                            0\n",
            "Date:                Fri, 26 Nov 2021   Pseudo R-squ.:                0.002582\n",
            "Time:                        16:08:08   Log-Likelihood:                -179.72\n",
            "converged:                       True   LL-Null:                       -180.19\n",
            "Covariance Type:            nonrobust   LLR p-value:                       nan\n",
            "==============================================================================\n",
            "                 coef    std err          z      P>|z|      [0.025      0.975]\n",
            "------------------------------------------------------------------------------\n",
            "Age            0.0025      0.003      0.995      0.320      -0.002       0.008\n",
            "==============================================================================\n",
            "\n",
            "Accuracy : 0.49230769230769234 \n",
            "\n",
            "\n",
            "Optimization terminated successfully.\n",
            "         Current function value: 0.691582\n",
            "         Iterations 3\n",
            "Logistic regression on : BMI\n",
            "                           Logit Regression Results                           \n",
            "==============================================================================\n",
            "Dep. Variable:                    OSA   No. Observations:                  260\n",
            "Model:                          Logit   Df Residuals:                      259\n",
            "Method:                           MLE   Df Model:                            0\n",
            "Date:                Fri, 26 Nov 2021   Pseudo R-squ.:                0.002088\n",
            "Time:                        16:08:08   Log-Likelihood:                -179.81\n",
            "converged:                       True   LL-Null:                       -180.19\n",
            "Covariance Type:            nonrobust   LLR p-value:                       nan\n",
            "==============================================================================\n",
            "                 coef    std err          z      P>|z|      [0.025      0.975]\n",
            "------------------------------------------------------------------------------\n",
            "BMI            0.0037      0.004      0.901      0.367      -0.004       0.012\n",
            "==============================================================================\n",
            "\n",
            "Accuracy : 0.49230769230769234 \n",
            "\n",
            "\n",
            "Optimization terminated successfully.\n",
            "         Current function value: 0.693009\n",
            "         Iterations 3\n",
            "Logistic regression on : Cervical\n",
            "                           Logit Regression Results                           \n",
            "==============================================================================\n",
            "Dep. Variable:                    OSA   No. Observations:                  260\n",
            "Model:                          Logit   Df Residuals:                      259\n",
            "Method:                           MLE   Df Model:                            0\n",
            "Date:                Fri, 26 Nov 2021   Pseudo R-squ.:               2.903e-05\n",
            "Time:                        16:08:08   Log-Likelihood:                -180.18\n",
            "converged:                       True   LL-Null:                       -180.19\n",
            "Covariance Type:            nonrobust   LLR p-value:                       nan\n",
            "==============================================================================\n",
            "                 coef    std err          z      P>|z|      [0.025      0.975]\n",
            "------------------------------------------------------------------------------\n",
            "Cervical       0.0008      0.003      0.268      0.788      -0.005       0.007\n",
            "==============================================================================\n",
            "\n",
            "Accuracy : 0.49230769230769234 \n",
            "\n",
            "\n"
          ]
        }
      ]
    },
    {
      "cell_type": "markdown",
      "metadata": {
        "id": "8IGwUwNi-ydS"
      },
      "source": [
        "### Multiple linear regression on Age, Weight, Height and Cervical"
      ]
    },
    {
      "cell_type": "code",
      "metadata": {
        "id": "MlmALZnl-xd2",
        "outputId": "93ec138c-da9e-485f-e921-1f29b7f1ebd5",
        "colab": {
          "base_uri": "https://localhost:8080/"
        }
      },
      "source": [
        "#Define features and output\n",
        "predictors = ['BMI', 'Cervical', 'Age']\n",
        "target = 'Y'\n",
        "# Define the model\n",
        "model = sm.OLS(df[target], df[predictors]).fit()\n",
        "print(model.summary())\n",
        "predictions = model.predict(df[predictors])\n",
        "predictions  = (predictions > 0.5).astype(int)\n",
        "acc = accuracy_score(y, predictions)\n",
        "print(\"Accuracy : \", acc)"
      ],
      "execution_count": 132,
      "outputs": [
        {
          "output_type": "stream",
          "name": "stdout",
          "text": [
            "                                 OLS Regression Results                                \n",
            "=======================================================================================\n",
            "Dep. Variable:                      Y   R-squared (uncentered):                   0.583\n",
            "Model:                            OLS   Adj. R-squared (uncentered):              0.578\n",
            "Method:                 Least Squares   F-statistic:                              119.8\n",
            "Date:                Fri, 26 Nov 2021   Prob (F-statistic):                    1.47e-48\n",
            "Time:                        16:10:00   Log-Likelihood:                         -163.06\n",
            "No. Observations:                 260   AIC:                                      332.1\n",
            "Df Residuals:                     257   BIC:                                      342.8\n",
            "Df Model:                           3                                                  \n",
            "Covariance Type:            nonrobust                                                  \n",
            "==============================================================================\n",
            "                 coef    std err          t      P>|t|      [0.025      0.975]\n",
            "------------------------------------------------------------------------------\n",
            "BMI            0.0350      0.007      5.110      0.000       0.022       0.049\n",
            "Cervical      -0.0238      0.006     -4.036      0.000      -0.035      -0.012\n",
            "Age            0.0096      0.002      4.118      0.000       0.005       0.014\n",
            "==============================================================================\n",
            "Omnibus:                     2957.524   Durbin-Watson:                   1.803\n",
            "Prob(Omnibus):                  0.000   Jarque-Bera (JB):               25.598\n",
            "Skew:                           0.068   Prob(JB):                     2.76e-06\n",
            "Kurtosis:                       1.469   Cond. No.                         22.1\n",
            "==============================================================================\n",
            "\n",
            "Warnings:\n",
            "[1] Standard Errors assume that the covariance matrix of the errors is correctly specified.\n",
            "Accuracy :  0.6730769230769231\n"
          ]
        }
      ]
    },
    {
      "cell_type": "markdown",
      "metadata": {
        "id": "ykAUOBKtDkxt"
      },
      "source": [
        "# Try to fit with a ML model"
      ]
    },
    {
      "cell_type": "markdown",
      "metadata": {
        "id": "a3knC9SjDpkk"
      },
      "source": [
        "### Function for split the data into training and testing dataset"
      ]
    },
    {
      "cell_type": "code",
      "metadata": {
        "id": "SsSV9JdVd5pA"
      },
      "source": [
        "def splitData(dataSet):\n",
        "  # Splitting into train and test sets\n",
        "\n",
        "  # Generate the training set.  Set random_state to be able to replicate results.\n",
        "  train = dataSet.sample(frac=0.8, random_state=1)\n",
        "\n",
        "  # Select anything not in the training set and put it in the testing set.\n",
        "  test = dataSet.loc[~dataSet.index.isin(train.index)]\n",
        "\n",
        "  # Print the shapes of both sets.\n",
        "  #print(train.shape)\n",
        "  #print(test.shape)\n",
        "  \n",
        "  return train, test"
      ],
      "execution_count": 4,
      "outputs": []
    },
    {
      "cell_type": "markdown",
      "metadata": {
        "id": "ozs719oVDqjB"
      },
      "source": [
        "### Training function:"
      ]
    },
    {
      "cell_type": "code",
      "metadata": {
        "id": "sK9G3MZNd7xz"
      },
      "source": [
        "def model_training(model, features, output):\n",
        "  # Fit the model to the training data.\n",
        "  Trained_model=model.fit(features, output)\n",
        "  return Trained_model"
      ],
      "execution_count": 5,
      "outputs": []
    },
    {
      "cell_type": "markdown",
      "metadata": {
        "id": "1n1Ywj5TDt6T"
      },
      "source": [
        "### Testing fonction"
      ]
    },
    {
      "cell_type": "code",
      "metadata": {
        "id": "bhnN6hsTd-bL"
      },
      "source": [
        "def model_testing(model, features, output):\n",
        "  ### Predicting Error\n",
        "\n",
        "  # Generate our predictions for the test set.\n",
        "  predictions = model.predict(features)\n",
        "\n",
        "  # Compute accuracy between our test predictions and the actual values.\n",
        "  acc=accuracy_score(predictions, output)       \n",
        "  print('Accuracy: ', acc)\n",
        "\n",
        "  # Plot confusion matrix\n",
        "  print(confusion_matrix(predictions, output))\n",
        "  #plt.show()"
      ],
      "execution_count": 6,
      "outputs": []
    },
    {
      "cell_type": "markdown",
      "metadata": {
        "id": "vaFmZkLED4re"
      },
      "source": [
        "### Automated process to test a model"
      ]
    },
    {
      "cell_type": "code",
      "metadata": {
        "id": "3tclbkAuepJ9"
      },
      "source": [
        "def training_process(model, predictors, target, data):\n",
        "  print(\"Model : \", type(model))\n",
        "  print('Predictor : ', predictors)\n",
        "  print(\"Target : \", target)\n",
        "  #Split Date into Training and testing dataset, Train and Test the model on those\n",
        "  train, test = splitData(data)\n",
        "  #Training the model\n",
        "  model = model_training(model, train[predictors], train[target])\n",
        "\n",
        "  #Test it on both dataset\n",
        "  print(\"Training dataset : \")\n",
        "  model_testing(model, train[predictors], train[target])\n",
        "  print(\"Training dataset : \")\n",
        "  model_testing(model, test[predictors], test[target])"
      ],
      "execution_count": 58,
      "outputs": []
    },
    {
      "cell_type": "markdown",
      "metadata": {
        "id": "f4XnHBnDIlOM"
      },
      "source": [
        "### Logistic Regression"
      ]
    },
    {
      "cell_type": "code",
      "metadata": {
        "id": "xTs83yJeJA2C",
        "outputId": "85eb9b2e-1140-4314-85e8-b386900e5b3b",
        "colab": {
          "base_uri": "https://localhost:8080/"
        }
      },
      "source": [
        "#Define features and output\n",
        "predictors = ['BMI', 'Age', 'Cervical']\n",
        "target = 'Y'\n",
        "\n",
        "# Define the model\n",
        "model = linear_model.LogisticRegression()\n",
        "training_process(model, predictors, target, df)"
      ],
      "execution_count": 136,
      "outputs": [
        {
          "output_type": "stream",
          "name": "stdout",
          "text": [
            "Model :  <class 'sklearn.linear_model._logistic.LogisticRegression'>\n",
            "Predictor :  ['BMI', 'Age', 'Cervical']\n",
            "Target :  Y\n",
            "Training dataset : \n",
            "Accuracy:  0.7307692307692307\n",
            "[[79 29]\n",
            " [27 73]]\n",
            "Training dataset : \n",
            "Accuracy:  0.6346153846153846\n",
            "[[19 12]\n",
            " [ 7 14]]\n"
          ]
        }
      ]
    },
    {
      "cell_type": "code",
      "metadata": {
        "id": "90oJxQshrlOV",
        "colab": {
          "base_uri": "https://localhost:8080/"
        },
        "outputId": "2888c677-55b6-4241-f426-b2cc9115a566"
      },
      "source": [
        "#Define features and output\n",
        "predictors = ['BMI', 'Age', 'Cervical']\n",
        "target = 'Y'\n",
        "\n",
        "# Define the model\n",
        "model = svm.SVC()\n",
        "training_process(model, predictors, target, df)"
      ],
      "execution_count": 138,
      "outputs": [
        {
          "output_type": "stream",
          "name": "stdout",
          "text": [
            "Model :  <class 'sklearn.svm._classes.SVC'>\n",
            "Predictor :  ['BMI', 'Age', 'Cervical']\n",
            "Target :  OSA\n",
            "Training dataset : \n",
            "Accuracy:  0.7163461538461539\n",
            "[[67 20]\n",
            " [39 82]]\n",
            "Training dataset : \n",
            "Accuracy:  0.6923076923076923\n",
            "[[19  9]\n",
            " [ 7 17]]\n"
          ]
        }
      ]
    },
    {
      "cell_type": "code",
      "metadata": {
        "id": "8ayAhx3ZqiTL",
        "colab": {
          "base_uri": "https://localhost:8080/"
        },
        "outputId": "9bf75d1e-68a8-4d4d-f4a7-b98ddc8e0896"
      },
      "source": [
        "#Define features and output\n",
        "predictors = ['BMI', 'Age', 'Cervical']\n",
        "target = 'Y'\n",
        "\n",
        "# Define the model\n",
        "model = DecisionTreeClassifier(max_depth=15)\n",
        "training_process(model, predictors, target, df)"
      ],
      "execution_count": 140,
      "outputs": [
        {
          "output_type": "stream",
          "name": "stdout",
          "text": [
            "Model :  <class 'sklearn.tree._classes.DecisionTreeClassifier'>\n",
            "Predictor :  ['BMI', 'Age', 'Cervical']\n",
            "Target :  Y\n",
            "Training dataset : \n",
            "Accuracy:  1.0\n",
            "[[106   0]\n",
            " [  0 102]]\n",
            "Training dataset : \n",
            "Accuracy:  0.7115384615384616\n",
            "[[20  9]\n",
            " [ 6 17]]\n"
          ]
        }
      ]
    },
    {
      "cell_type": "code",
      "metadata": {
        "colab": {
          "base_uri": "https://localhost:8080/"
        },
        "id": "d2QYXxymi5tM",
        "outputId": "46311e95-651c-4af4-9914-01c95f5b5de8"
      },
      "source": [
        "#Define features and output\n",
        "predictors = ['BMI', 'Age', 'Cervical']\n",
        "target = 'Y'\n",
        "\n",
        "# Define the model\n",
        "model = neighbors.KNeighborsClassifier(n_neighbors = 10, weights='uniform')\n",
        "training_process(model, predictors, target, df)"
      ],
      "execution_count": 171,
      "outputs": [
        {
          "output_type": "stream",
          "name": "stdout",
          "text": [
            "Model :  <class 'sklearn.neighbors._classification.KNeighborsClassifier'>\n",
            "Predictor :  ['BMI', 'Age', 'Cervical']\n",
            "Target :  Y\n",
            "Training dataset : \n",
            "Accuracy:  0.7355769230769231\n",
            "[[79 28]\n",
            " [27 74]]\n",
            "Training dataset : \n",
            "Accuracy:  0.7307692307692307\n",
            "[[21  9]\n",
            " [ 5 17]]\n"
          ]
        }
      ]
    },
    {
      "cell_type": "code",
      "metadata": {
        "id": "9d5fIEIaOfHD",
        "outputId": "f4aaaa0e-21d7-45d9-a036-d9022609e7bb",
        "colab": {
          "base_uri": "https://localhost:8080/"
        }
      },
      "source": [
        "from xgboost import XGBClassifier\n",
        "#Xboosting\n",
        "predictors = ['BMI', 'Age', 'Cervical', 'Weight', 'Height']\n",
        "target = 'Y'\n",
        "\n",
        "# Define the model\n",
        "model = XGBClassifier(max_depth=10, learning_rate=0.01, n_estimators=100)\n",
        "training_process(model, predictors, target, df)"
      ],
      "execution_count": 165,
      "outputs": [
        {
          "output_type": "stream",
          "name": "stdout",
          "text": [
            "Model :  <class 'xgboost.sklearn.XGBClassifier'>\n",
            "Predictor :  ['BMI', 'Age', 'Cervical', 'Weight', 'Height']\n",
            "Target :  Y\n",
            "Training dataset : \n",
            "Accuracy:  0.8990384615384616\n",
            "[[95 10]\n",
            " [11 92]]\n",
            "Training dataset : \n",
            "Accuracy:  0.6730769230769231\n",
            "[[19 10]\n",
            " [ 7 16]]\n"
          ]
        }
      ]
    }
  ]
}