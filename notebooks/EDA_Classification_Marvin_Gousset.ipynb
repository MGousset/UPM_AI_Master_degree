{
  "nbformat": 4,
  "nbformat_minor": 0,
  "metadata": {
    "colab": {
      "name": "EDA_Classification_Marvin_Gousset.ipynb",
      "provenance": [],
      "collapsed_sections": []
    },
    "kernelspec": {
      "display_name": "Python 3",
      "language": "python",
      "name": "python3"
    },
    "language_info": {
      "codemirror_mode": {
        "name": "ipython",
        "version": 3
      },
      "file_extension": ".py",
      "mimetype": "text/x-python",
      "name": "python",
      "nbconvert_exporter": "python",
      "pygments_lexer": "ipython3",
      "version": "3.7.3"
    }
  },
  "cells": [
    {
      "cell_type": "code",
      "metadata": {
        "id": "29leoi91dnfV"
      },
      "source": [
        "#Define Constante\n",
        "DIR = \"/content/drive/MyDrive/Colab Notebooks/UPM/PRDL/EDA/\"\n",
        "\n",
        "#importation\n",
        "from pandas.plotting import scatter_matrix\n",
        "from google.colab import drive\n",
        "import os\n",
        "import pandas as pd\n",
        "from sklearn.metrics import mean_squared_error, r2_score\n",
        "import matplotlib.pyplot as plt\n",
        "from sklearn import linear_model, svm\n",
        "from sklearn.tree import DecisionTreeRegressor\n",
        "from sklearn.ensemble import RandomForestRegressor\n",
        "import math"
      ],
      "execution_count": 10,
      "outputs": []
    },
    {
      "cell_type": "code",
      "metadata": {
        "id": "jxYNi82tdvch"
      },
      "source": [
        "def importData():\n",
        "  drive.mount(\"/content/drive\")\n",
        "  \n",
        "  #Change directory\n",
        "  os.chdir(DIR)\n",
        "\n",
        "  # Read Clinical Data\n",
        "  OSA_Clinical_df = pd.read_csv(\"OSA_DB_UPM_Clinical.csv\",sep=';',na_values=['-1'])\n",
        "  OSA_Clinical_df=OSA_Clinical_df.dropna()\n",
        "\n",
        "  # Now Read Demographical Information\n",
        "  OSA_Demo_df = pd.read_csv(\"OSA_DB_UPM_Age_Gender.csv\",na_values=['-1'])\n",
        "  OSA_Demo_df=OSA_Demo_df.dropna()\n",
        "\n",
        "  # JOIN OSA_Demo_df and OSA_Clinical_df\n",
        "  OSA_df = pd.merge(OSA_Clinical_df, OSA_Demo_df, on='ID', how='inner')\n",
        "\n",
        "  OSA_df['ID'] = OSA_df['ID'].astype('str')\n",
        "  OSA_df = OSA_df.set_index('ID')\n",
        "  return OSA_df"
      ],
      "execution_count": 2,
      "outputs": []
    },
    {
      "cell_type": "code",
      "metadata": {
        "id": "SsSV9JdVd5pA"
      },
      "source": [
        "def splitData(dataSet):\n",
        "  # Splitting into train and test sets\n",
        "\n",
        "  # Generate the training set.  Set random_state to be able to replicate results.\n",
        "  train = dataSet.sample(frac=0.8, random_state=1)\n",
        "\n",
        "  # Select anything not in the training set and put it in the testing set.\n",
        "  test = dataSet.loc[~dataSet.index.isin(train.index)]\n",
        "\n",
        "  # Print the shapes of both sets.\n",
        "  #print(train.shape)\n",
        "  #print(test.shape)\n",
        "  \n",
        "  return train, test"
      ],
      "execution_count": 9,
      "outputs": []
    },
    {
      "cell_type": "code",
      "metadata": {
        "id": "sK9G3MZNd7xz"
      },
      "source": [
        "def model_training(model, features, output):\n",
        "  # Fit the model to the training data.\n",
        "  Trained_model=model.fit(features, output)\n",
        "  return Trained_model"
      ],
      "execution_count": 8,
      "outputs": []
    },
    {
      "cell_type": "code",
      "metadata": {
        "id": "bhnN6hsTd-bL"
      },
      "source": [
        "def model_testing(model, features, output):\n",
        "  ### Predicting Error\n",
        "\n",
        "  # Generate our predictions for the test set.\n",
        "  predictions = model.predict(features)\n",
        "\n",
        "  # Compute error between our test predictions and the actual values.\n",
        "  MSE=mean_squared_error(predictions, output)\n",
        "  r2_s = r2_score(output, predictions)\n",
        "                  \n",
        "  print('Mean squared Error: ', MSE, ' R =  ', r2_s)\n",
        "\n",
        "  # Explained variance score:\n",
        "  #print('Variance score: %.2f' % r2_score(output, predictions))\n",
        "\n",
        "  # Plot outputs\n",
        "  plt.scatter(output, predictions,  color='red')\n",
        "  plt.show()"
      ],
      "execution_count": 7,
      "outputs": []
    },
    {
      "cell_type": "code",
      "metadata": {
        "id": "3tclbkAuepJ9"
      },
      "source": [
        "def training_process(model, predictors, target, data):\n",
        "  print(\"Model : \", type(model))\n",
        "  print('Predictor : ', predictors)\n",
        "  print(\"Target : \", target)\n",
        "  #Split Date into Training and testing dataset, Train and Test the model on those\n",
        "  train, test = splitData(data)\n",
        "  model = model_training(model, train[predictors], train[target])\n",
        "  model_testing(model, test[predictors], test[target])"
      ],
      "execution_count": 6,
      "outputs": []
    },
    {
      "cell_type": "code",
      "metadata": {
        "colab": {
          "base_uri": "https://localhost:8080/"
        },
        "id": "ZH74_oFueBDD",
        "outputId": "c44fb778-1909-4cd3-f7a6-c9dc46a19aba"
      },
      "source": [
        "df = importData()"
      ],
      "execution_count": 22,
      "outputs": [
        {
          "output_type": "stream",
          "name": "stdout",
          "text": [
            "Drive already mounted at /content/drive; to attempt to forcibly remount, call drive.mount(\"/content/drive\", force_remount=True).\n"
          ]
        }
      ]
    },
    {
      "cell_type": "code",
      "metadata": {
        "colab": {
          "base_uri": "https://localhost:8080/",
          "height": 236
        },
        "id": "mP9_JX6lrQsM",
        "outputId": "3514bb6f-a79f-4d5d-c675-45890fdceb5a"
      },
      "source": [
        "df.head(5)"
      ],
      "execution_count": 23,
      "outputs": [
        {
          "output_type": "execute_result",
          "data": {
            "text/html": [
              "<div>\n",
              "<style scoped>\n",
              "    .dataframe tbody tr th:only-of-type {\n",
              "        vertical-align: middle;\n",
              "    }\n",
              "\n",
              "    .dataframe tbody tr th {\n",
              "        vertical-align: top;\n",
              "    }\n",
              "\n",
              "    .dataframe thead th {\n",
              "        text-align: right;\n",
              "    }\n",
              "</style>\n",
              "<table border=\"1\" class=\"dataframe\">\n",
              "  <thead>\n",
              "    <tr style=\"text-align: right;\">\n",
              "      <th></th>\n",
              "      <th>IAH</th>\n",
              "      <th>Weight</th>\n",
              "      <th>Height</th>\n",
              "      <th>Cervical</th>\n",
              "      <th>Gender</th>\n",
              "      <th>Age</th>\n",
              "    </tr>\n",
              "    <tr>\n",
              "      <th>ID</th>\n",
              "      <th></th>\n",
              "      <th></th>\n",
              "      <th></th>\n",
              "      <th></th>\n",
              "      <th></th>\n",
              "      <th></th>\n",
              "    </tr>\n",
              "  </thead>\n",
              "  <tbody>\n",
              "    <tr>\n",
              "      <th>2</th>\n",
              "      <td>29.6</td>\n",
              "      <td>119.0</td>\n",
              "      <td>174.0</td>\n",
              "      <td>48.0</td>\n",
              "      <td>0</td>\n",
              "      <td>56.0</td>\n",
              "    </tr>\n",
              "    <tr>\n",
              "      <th>4</th>\n",
              "      <td>19.7</td>\n",
              "      <td>78.0</td>\n",
              "      <td>168.0</td>\n",
              "      <td>42.0</td>\n",
              "      <td>0</td>\n",
              "      <td>39.0</td>\n",
              "    </tr>\n",
              "    <tr>\n",
              "      <th>5</th>\n",
              "      <td>9.0</td>\n",
              "      <td>80.0</td>\n",
              "      <td>173.0</td>\n",
              "      <td>40.0</td>\n",
              "      <td>0</td>\n",
              "      <td>32.0</td>\n",
              "    </tr>\n",
              "    <tr>\n",
              "      <th>6</th>\n",
              "      <td>2.0</td>\n",
              "      <td>109.0</td>\n",
              "      <td>190.0</td>\n",
              "      <td>42.0</td>\n",
              "      <td>0</td>\n",
              "      <td>32.0</td>\n",
              "    </tr>\n",
              "    <tr>\n",
              "      <th>7</th>\n",
              "      <td>34.0</td>\n",
              "      <td>86.0</td>\n",
              "      <td>169.0</td>\n",
              "      <td>42.0</td>\n",
              "      <td>0</td>\n",
              "      <td>39.0</td>\n",
              "    </tr>\n",
              "  </tbody>\n",
              "</table>\n",
              "</div>"
            ],
            "text/plain": [
              "     IAH  Weight  Height  Cervical  Gender   Age\n",
              "ID                                              \n",
              "2   29.6   119.0   174.0      48.0       0  56.0\n",
              "4   19.7    78.0   168.0      42.0       0  39.0\n",
              "5    9.0    80.0   173.0      40.0       0  32.0\n",
              "6    2.0   109.0   190.0      42.0       0  32.0\n",
              "7   34.0    86.0   169.0      42.0       0  39.0"
            ]
          },
          "metadata": {},
          "execution_count": 23
        }
      ]
    },
    {
      "cell_type": "code",
      "metadata": {
        "colab": {
          "base_uri": "https://localhost:8080/"
        },
        "id": "PruRE52esOwL",
        "outputId": "3205cac8-5d90-4dab-b266-952b30e7ebdf"
      },
      "source": [
        "df['Gender'].value_counts()"
      ],
      "execution_count": 24,
      "outputs": [
        {
          "output_type": "execute_result",
          "data": {
            "text/plain": [
              "0    428\n",
              "1    171\n",
              "Name: Gender, dtype: int64"
            ]
          },
          "metadata": {},
          "execution_count": 24
        }
      ]
    },
    {
      "cell_type": "markdown",
      "metadata": {
        "id": "APEamssdrfYN"
      },
      "source": [
        "### We will begin considering only the male subjets\n"
      ]
    },
    {
      "cell_type": "code",
      "metadata": {
        "id": "2KOuHkYZr6rO"
      },
      "source": [
        "df_OSA_male = df.loc[df['Gender'] == 0]"
      ],
      "execution_count": 25,
      "outputs": []
    },
    {
      "cell_type": "code",
      "metadata": {
        "colab": {
          "base_uri": "https://localhost:8080/",
          "height": 299
        },
        "id": "YDnuPN5NrnED",
        "outputId": "3b42b1ef-f29b-4b76-938f-0ce7597731f6"
      },
      "source": [
        "df_OSA_male.describe()"
      ],
      "execution_count": 26,
      "outputs": [
        {
          "output_type": "execute_result",
          "data": {
            "text/html": [
              "<div>\n",
              "<style scoped>\n",
              "    .dataframe tbody tr th:only-of-type {\n",
              "        vertical-align: middle;\n",
              "    }\n",
              "\n",
              "    .dataframe tbody tr th {\n",
              "        vertical-align: top;\n",
              "    }\n",
              "\n",
              "    .dataframe thead th {\n",
              "        text-align: right;\n",
              "    }\n",
              "</style>\n",
              "<table border=\"1\" class=\"dataframe\">\n",
              "  <thead>\n",
              "    <tr style=\"text-align: right;\">\n",
              "      <th></th>\n",
              "      <th>IAH</th>\n",
              "      <th>Weight</th>\n",
              "      <th>Height</th>\n",
              "      <th>Cervical</th>\n",
              "      <th>Gender</th>\n",
              "      <th>Age</th>\n",
              "    </tr>\n",
              "  </thead>\n",
              "  <tbody>\n",
              "    <tr>\n",
              "      <th>count</th>\n",
              "      <td>428.000000</td>\n",
              "      <td>428.000000</td>\n",
              "      <td>428.000000</td>\n",
              "      <td>428.000000</td>\n",
              "      <td>428.0</td>\n",
              "      <td>428.000000</td>\n",
              "    </tr>\n",
              "    <tr>\n",
              "      <th>mean</th>\n",
              "      <td>22.367196</td>\n",
              "      <td>91.579439</td>\n",
              "      <td>175.231308</td>\n",
              "      <td>42.151869</td>\n",
              "      <td>0.0</td>\n",
              "      <td>48.796729</td>\n",
              "    </tr>\n",
              "    <tr>\n",
              "      <th>std</th>\n",
              "      <td>18.122430</td>\n",
              "      <td>17.319852</td>\n",
              "      <td>7.192909</td>\n",
              "      <td>3.225022</td>\n",
              "      <td>0.0</td>\n",
              "      <td>12.555200</td>\n",
              "    </tr>\n",
              "    <tr>\n",
              "      <th>min</th>\n",
              "      <td>0.000000</td>\n",
              "      <td>61.000000</td>\n",
              "      <td>152.000000</td>\n",
              "      <td>34.000000</td>\n",
              "      <td>0.0</td>\n",
              "      <td>20.000000</td>\n",
              "    </tr>\n",
              "    <tr>\n",
              "      <th>25%</th>\n",
              "      <td>8.700000</td>\n",
              "      <td>80.000000</td>\n",
              "      <td>170.000000</td>\n",
              "      <td>40.000000</td>\n",
              "      <td>0.0</td>\n",
              "      <td>39.000000</td>\n",
              "    </tr>\n",
              "    <tr>\n",
              "      <th>50%</th>\n",
              "      <td>17.200000</td>\n",
              "      <td>88.500000</td>\n",
              "      <td>175.000000</td>\n",
              "      <td>42.000000</td>\n",
              "      <td>0.0</td>\n",
              "      <td>48.000000</td>\n",
              "    </tr>\n",
              "    <tr>\n",
              "      <th>75%</th>\n",
              "      <td>32.625000</td>\n",
              "      <td>100.000000</td>\n",
              "      <td>180.000000</td>\n",
              "      <td>44.000000</td>\n",
              "      <td>0.0</td>\n",
              "      <td>58.000000</td>\n",
              "    </tr>\n",
              "    <tr>\n",
              "      <th>max</th>\n",
              "      <td>102.000000</td>\n",
              "      <td>162.000000</td>\n",
              "      <td>197.000000</td>\n",
              "      <td>53.000000</td>\n",
              "      <td>0.0</td>\n",
              "      <td>85.000000</td>\n",
              "    </tr>\n",
              "  </tbody>\n",
              "</table>\n",
              "</div>"
            ],
            "text/plain": [
              "              IAH      Weight      Height    Cervical  Gender         Age\n",
              "count  428.000000  428.000000  428.000000  428.000000   428.0  428.000000\n",
              "mean    22.367196   91.579439  175.231308   42.151869     0.0   48.796729\n",
              "std     18.122430   17.319852    7.192909    3.225022     0.0   12.555200\n",
              "min      0.000000   61.000000  152.000000   34.000000     0.0   20.000000\n",
              "25%      8.700000   80.000000  170.000000   40.000000     0.0   39.000000\n",
              "50%     17.200000   88.500000  175.000000   42.000000     0.0   48.000000\n",
              "75%     32.625000  100.000000  180.000000   44.000000     0.0   58.000000\n",
              "max    102.000000  162.000000  197.000000   53.000000     0.0   85.000000"
            ]
          },
          "metadata": {},
          "execution_count": 26
        }
      ]
    },
    {
      "cell_type": "markdown",
      "metadata": {
        "id": "ePfVU719qzer"
      },
      "source": [
        "## We add column to tag three clases:\n",
        "* ####     Healthy (IAH <= 10)\n",
        "* ####     Mild (10<IAH<30)\n",
        "* ####     Severe (IAH >=30)"
      ]
    },
    {
      "cell_type": "code",
      "metadata": {
        "id": "2DUw8Sr4u-q8"
      },
      "source": [
        "conditions = [\n",
        "    (df_OSA_male['IAH'] <= 10),\n",
        "    (df_OSA_male['IAH'] > 10) & (df_OSA_male['IAH'] < 30),\n",
        "    (df_OSA_male['IAH'] >= 30)\n",
        "    ]"
      ],
      "execution_count": 27,
      "outputs": []
    },
    {
      "cell_type": "code",
      "metadata": {
        "id": "9M-XDjaav3q7"
      },
      "source": [
        "# create a list of the values we want to assign for each condition\n",
        "values = ['Healthy', 'Mild', 'Severe']"
      ],
      "execution_count": 28,
      "outputs": []
    },
    {
      "cell_type": "code",
      "metadata": {
        "colab": {
          "base_uri": "https://localhost:8080/"
        },
        "id": "Io3pOyZRvX3r",
        "outputId": "70338b5b-a3f2-4d02-a970-49a9bb2c1aac"
      },
      "source": [
        "# create a new column and use np.select to assign values to it using our lists as arguments\n",
        "# NOTE: we use select() from numpy\n",
        "\n",
        "import numpy as np\n",
        "\n",
        "df_OSA_male['OSA'] = np.select(conditions, values)"
      ],
      "execution_count": 29,
      "outputs": [
        {
          "output_type": "stream",
          "name": "stderr",
          "text": [
            "/usr/local/lib/python3.7/dist-packages/ipykernel_launcher.py:7: SettingWithCopyWarning: \n",
            "A value is trying to be set on a copy of a slice from a DataFrame.\n",
            "Try using .loc[row_indexer,col_indexer] = value instead\n",
            "\n",
            "See the caveats in the documentation: https://pandas.pydata.org/pandas-docs/stable/user_guide/indexing.html#returning-a-view-versus-a-copy\n",
            "  import sys\n"
          ]
        }
      ]
    },
    {
      "cell_type": "code",
      "metadata": {
        "colab": {
          "base_uri": "https://localhost:8080/",
          "height": 393
        },
        "id": "MdgGzerawQhV",
        "outputId": "8644c7e8-305a-4a52-f162-68937937e046"
      },
      "source": [
        "df_OSA_male.head(10)"
      ],
      "execution_count": 30,
      "outputs": [
        {
          "output_type": "execute_result",
          "data": {
            "text/html": [
              "<div>\n",
              "<style scoped>\n",
              "    .dataframe tbody tr th:only-of-type {\n",
              "        vertical-align: middle;\n",
              "    }\n",
              "\n",
              "    .dataframe tbody tr th {\n",
              "        vertical-align: top;\n",
              "    }\n",
              "\n",
              "    .dataframe thead th {\n",
              "        text-align: right;\n",
              "    }\n",
              "</style>\n",
              "<table border=\"1\" class=\"dataframe\">\n",
              "  <thead>\n",
              "    <tr style=\"text-align: right;\">\n",
              "      <th></th>\n",
              "      <th>IAH</th>\n",
              "      <th>Weight</th>\n",
              "      <th>Height</th>\n",
              "      <th>Cervical</th>\n",
              "      <th>Gender</th>\n",
              "      <th>Age</th>\n",
              "      <th>OSA</th>\n",
              "    </tr>\n",
              "    <tr>\n",
              "      <th>ID</th>\n",
              "      <th></th>\n",
              "      <th></th>\n",
              "      <th></th>\n",
              "      <th></th>\n",
              "      <th></th>\n",
              "      <th></th>\n",
              "      <th></th>\n",
              "    </tr>\n",
              "  </thead>\n",
              "  <tbody>\n",
              "    <tr>\n",
              "      <th>2</th>\n",
              "      <td>29.6</td>\n",
              "      <td>119.0</td>\n",
              "      <td>174.0</td>\n",
              "      <td>48.0</td>\n",
              "      <td>0</td>\n",
              "      <td>56.0</td>\n",
              "      <td>Mild</td>\n",
              "    </tr>\n",
              "    <tr>\n",
              "      <th>4</th>\n",
              "      <td>19.7</td>\n",
              "      <td>78.0</td>\n",
              "      <td>168.0</td>\n",
              "      <td>42.0</td>\n",
              "      <td>0</td>\n",
              "      <td>39.0</td>\n",
              "      <td>Mild</td>\n",
              "    </tr>\n",
              "    <tr>\n",
              "      <th>5</th>\n",
              "      <td>9.0</td>\n",
              "      <td>80.0</td>\n",
              "      <td>173.0</td>\n",
              "      <td>40.0</td>\n",
              "      <td>0</td>\n",
              "      <td>32.0</td>\n",
              "      <td>Healthy</td>\n",
              "    </tr>\n",
              "    <tr>\n",
              "      <th>6</th>\n",
              "      <td>2.0</td>\n",
              "      <td>109.0</td>\n",
              "      <td>190.0</td>\n",
              "      <td>42.0</td>\n",
              "      <td>0</td>\n",
              "      <td>32.0</td>\n",
              "      <td>Healthy</td>\n",
              "    </tr>\n",
              "    <tr>\n",
              "      <th>7</th>\n",
              "      <td>34.0</td>\n",
              "      <td>86.0</td>\n",
              "      <td>169.0</td>\n",
              "      <td>42.0</td>\n",
              "      <td>0</td>\n",
              "      <td>39.0</td>\n",
              "      <td>Severe</td>\n",
              "    </tr>\n",
              "    <tr>\n",
              "      <th>8</th>\n",
              "      <td>60.0</td>\n",
              "      <td>145.0</td>\n",
              "      <td>172.0</td>\n",
              "      <td>44.0</td>\n",
              "      <td>0</td>\n",
              "      <td>47.0</td>\n",
              "      <td>Severe</td>\n",
              "    </tr>\n",
              "    <tr>\n",
              "      <th>9</th>\n",
              "      <td>22.0</td>\n",
              "      <td>72.0</td>\n",
              "      <td>165.0</td>\n",
              "      <td>42.0</td>\n",
              "      <td>0</td>\n",
              "      <td>40.0</td>\n",
              "      <td>Mild</td>\n",
              "    </tr>\n",
              "    <tr>\n",
              "      <th>10</th>\n",
              "      <td>11.0</td>\n",
              "      <td>80.0</td>\n",
              "      <td>180.0</td>\n",
              "      <td>38.0</td>\n",
              "      <td>0</td>\n",
              "      <td>28.0</td>\n",
              "      <td>Mild</td>\n",
              "    </tr>\n",
              "    <tr>\n",
              "      <th>13</th>\n",
              "      <td>3.7</td>\n",
              "      <td>90.0</td>\n",
              "      <td>180.0</td>\n",
              "      <td>40.0</td>\n",
              "      <td>0</td>\n",
              "      <td>36.0</td>\n",
              "      <td>Healthy</td>\n",
              "    </tr>\n",
              "    <tr>\n",
              "      <th>16</th>\n",
              "      <td>26.0</td>\n",
              "      <td>95.0</td>\n",
              "      <td>166.0</td>\n",
              "      <td>46.0</td>\n",
              "      <td>0</td>\n",
              "      <td>77.0</td>\n",
              "      <td>Mild</td>\n",
              "    </tr>\n",
              "  </tbody>\n",
              "</table>\n",
              "</div>"
            ],
            "text/plain": [
              "     IAH  Weight  Height  Cervical  Gender   Age      OSA\n",
              "ID                                                       \n",
              "2   29.6   119.0   174.0      48.0       0  56.0     Mild\n",
              "4   19.7    78.0   168.0      42.0       0  39.0     Mild\n",
              "5    9.0    80.0   173.0      40.0       0  32.0  Healthy\n",
              "6    2.0   109.0   190.0      42.0       0  32.0  Healthy\n",
              "7   34.0    86.0   169.0      42.0       0  39.0   Severe\n",
              "8   60.0   145.0   172.0      44.0       0  47.0   Severe\n",
              "9   22.0    72.0   165.0      42.0       0  40.0     Mild\n",
              "10  11.0    80.0   180.0      38.0       0  28.0     Mild\n",
              "13   3.7    90.0   180.0      40.0       0  36.0  Healthy\n",
              "16  26.0    95.0   166.0      46.0       0  77.0     Mild"
            ]
          },
          "metadata": {},
          "execution_count": 30
        }
      ]
    },
    {
      "cell_type": "markdown",
      "metadata": {
        "id": "sTT1lLUMxEXE"
      },
      "source": [
        "## Select only Severe and Healthy cases"
      ]
    },
    {
      "cell_type": "code",
      "metadata": {
        "id": "kFI5KOjPwpX8"
      },
      "source": [
        "df_OSA_male_extreme = df_OSA_male.loc[df_OSA_male['OSA'] != 'Mild']"
      ],
      "execution_count": 31,
      "outputs": []
    },
    {
      "cell_type": "code",
      "metadata": {
        "colab": {
          "base_uri": "https://localhost:8080/",
          "height": 393
        },
        "id": "C_0A_YSww9rb",
        "outputId": "adab0815-7f99-4410-9e8f-f4b26ba47083"
      },
      "source": [
        "df_OSA_male_extreme.head(10)"
      ],
      "execution_count": 32,
      "outputs": [
        {
          "output_type": "execute_result",
          "data": {
            "text/html": [
              "<div>\n",
              "<style scoped>\n",
              "    .dataframe tbody tr th:only-of-type {\n",
              "        vertical-align: middle;\n",
              "    }\n",
              "\n",
              "    .dataframe tbody tr th {\n",
              "        vertical-align: top;\n",
              "    }\n",
              "\n",
              "    .dataframe thead th {\n",
              "        text-align: right;\n",
              "    }\n",
              "</style>\n",
              "<table border=\"1\" class=\"dataframe\">\n",
              "  <thead>\n",
              "    <tr style=\"text-align: right;\">\n",
              "      <th></th>\n",
              "      <th>IAH</th>\n",
              "      <th>Weight</th>\n",
              "      <th>Height</th>\n",
              "      <th>Cervical</th>\n",
              "      <th>Gender</th>\n",
              "      <th>Age</th>\n",
              "      <th>OSA</th>\n",
              "    </tr>\n",
              "    <tr>\n",
              "      <th>ID</th>\n",
              "      <th></th>\n",
              "      <th></th>\n",
              "      <th></th>\n",
              "      <th></th>\n",
              "      <th></th>\n",
              "      <th></th>\n",
              "      <th></th>\n",
              "    </tr>\n",
              "  </thead>\n",
              "  <tbody>\n",
              "    <tr>\n",
              "      <th>5</th>\n",
              "      <td>9.0</td>\n",
              "      <td>80.0</td>\n",
              "      <td>173.0</td>\n",
              "      <td>40.0</td>\n",
              "      <td>0</td>\n",
              "      <td>32.0</td>\n",
              "      <td>Healthy</td>\n",
              "    </tr>\n",
              "    <tr>\n",
              "      <th>6</th>\n",
              "      <td>2.0</td>\n",
              "      <td>109.0</td>\n",
              "      <td>190.0</td>\n",
              "      <td>42.0</td>\n",
              "      <td>0</td>\n",
              "      <td>32.0</td>\n",
              "      <td>Healthy</td>\n",
              "    </tr>\n",
              "    <tr>\n",
              "      <th>7</th>\n",
              "      <td>34.0</td>\n",
              "      <td>86.0</td>\n",
              "      <td>169.0</td>\n",
              "      <td>42.0</td>\n",
              "      <td>0</td>\n",
              "      <td>39.0</td>\n",
              "      <td>Severe</td>\n",
              "    </tr>\n",
              "    <tr>\n",
              "      <th>8</th>\n",
              "      <td>60.0</td>\n",
              "      <td>145.0</td>\n",
              "      <td>172.0</td>\n",
              "      <td>44.0</td>\n",
              "      <td>0</td>\n",
              "      <td>47.0</td>\n",
              "      <td>Severe</td>\n",
              "    </tr>\n",
              "    <tr>\n",
              "      <th>13</th>\n",
              "      <td>3.7</td>\n",
              "      <td>90.0</td>\n",
              "      <td>180.0</td>\n",
              "      <td>40.0</td>\n",
              "      <td>0</td>\n",
              "      <td>36.0</td>\n",
              "      <td>Healthy</td>\n",
              "    </tr>\n",
              "    <tr>\n",
              "      <th>20</th>\n",
              "      <td>4.3</td>\n",
              "      <td>89.0</td>\n",
              "      <td>171.0</td>\n",
              "      <td>45.0</td>\n",
              "      <td>0</td>\n",
              "      <td>44.0</td>\n",
              "      <td>Healthy</td>\n",
              "    </tr>\n",
              "    <tr>\n",
              "      <th>22</th>\n",
              "      <td>56.0</td>\n",
              "      <td>113.0</td>\n",
              "      <td>177.0</td>\n",
              "      <td>46.0</td>\n",
              "      <td>0</td>\n",
              "      <td>33.0</td>\n",
              "      <td>Severe</td>\n",
              "    </tr>\n",
              "    <tr>\n",
              "      <th>24</th>\n",
              "      <td>53.6</td>\n",
              "      <td>107.0</td>\n",
              "      <td>170.0</td>\n",
              "      <td>46.0</td>\n",
              "      <td>0</td>\n",
              "      <td>48.0</td>\n",
              "      <td>Severe</td>\n",
              "    </tr>\n",
              "    <tr>\n",
              "      <th>25</th>\n",
              "      <td>2.1</td>\n",
              "      <td>70.0</td>\n",
              "      <td>174.0</td>\n",
              "      <td>38.0</td>\n",
              "      <td>0</td>\n",
              "      <td>53.0</td>\n",
              "      <td>Healthy</td>\n",
              "    </tr>\n",
              "    <tr>\n",
              "      <th>27</th>\n",
              "      <td>47.0</td>\n",
              "      <td>100.0</td>\n",
              "      <td>180.0</td>\n",
              "      <td>48.0</td>\n",
              "      <td>0</td>\n",
              "      <td>62.0</td>\n",
              "      <td>Severe</td>\n",
              "    </tr>\n",
              "  </tbody>\n",
              "</table>\n",
              "</div>"
            ],
            "text/plain": [
              "     IAH  Weight  Height  Cervical  Gender   Age      OSA\n",
              "ID                                                       \n",
              "5    9.0    80.0   173.0      40.0       0  32.0  Healthy\n",
              "6    2.0   109.0   190.0      42.0       0  32.0  Healthy\n",
              "7   34.0    86.0   169.0      42.0       0  39.0   Severe\n",
              "8   60.0   145.0   172.0      44.0       0  47.0   Severe\n",
              "13   3.7    90.0   180.0      40.0       0  36.0  Healthy\n",
              "20   4.3    89.0   171.0      45.0       0  44.0  Healthy\n",
              "22  56.0   113.0   177.0      46.0       0  33.0   Severe\n",
              "24  53.6   107.0   170.0      46.0       0  48.0   Severe\n",
              "25   2.1    70.0   174.0      38.0       0  53.0  Healthy\n",
              "27  47.0   100.0   180.0      48.0       0  62.0   Severe"
            ]
          },
          "metadata": {},
          "execution_count": 32
        }
      ]
    },
    {
      "cell_type": "markdown",
      "metadata": {
        "id": "VZdj4oVGxLSW"
      },
      "source": [
        "## Now add BMI feature"
      ]
    },
    {
      "cell_type": "code",
      "metadata": {
        "colab": {
          "base_uri": "https://localhost:8080/"
        },
        "id": "m7iQdnVqxQ3i",
        "outputId": "e4ffb4c5-be42-4c8d-cd48-b15d334ae8bf"
      },
      "source": [
        "df_OSA_male_extreme['BMI'] = \\\n",
        "        df_OSA_male_extreme['Weight'] / (df_OSA_male_extreme['Height']/100.0)**2"
      ],
      "execution_count": 33,
      "outputs": [
        {
          "output_type": "stream",
          "name": "stderr",
          "text": [
            "/usr/local/lib/python3.7/dist-packages/ipykernel_launcher.py:1: SettingWithCopyWarning: \n",
            "A value is trying to be set on a copy of a slice from a DataFrame.\n",
            "Try using .loc[row_indexer,col_indexer] = value instead\n",
            "\n",
            "See the caveats in the documentation: https://pandas.pydata.org/pandas-docs/stable/user_guide/indexing.html#returning-a-view-versus-a-copy\n",
            "  \"\"\"Entry point for launching an IPython kernel.\n"
          ]
        }
      ]
    },
    {
      "cell_type": "code",
      "metadata": {
        "colab": {
          "base_uri": "https://localhost:8080/",
          "height": 393
        },
        "id": "NCxTJbgE1Ds0",
        "outputId": "ffd0f48f-c455-41a7-879c-c240af562748"
      },
      "source": [
        "df_OSA_male_extreme.head(10)"
      ],
      "execution_count": 34,
      "outputs": [
        {
          "output_type": "execute_result",
          "data": {
            "text/html": [
              "<div>\n",
              "<style scoped>\n",
              "    .dataframe tbody tr th:only-of-type {\n",
              "        vertical-align: middle;\n",
              "    }\n",
              "\n",
              "    .dataframe tbody tr th {\n",
              "        vertical-align: top;\n",
              "    }\n",
              "\n",
              "    .dataframe thead th {\n",
              "        text-align: right;\n",
              "    }\n",
              "</style>\n",
              "<table border=\"1\" class=\"dataframe\">\n",
              "  <thead>\n",
              "    <tr style=\"text-align: right;\">\n",
              "      <th></th>\n",
              "      <th>IAH</th>\n",
              "      <th>Weight</th>\n",
              "      <th>Height</th>\n",
              "      <th>Cervical</th>\n",
              "      <th>Gender</th>\n",
              "      <th>Age</th>\n",
              "      <th>OSA</th>\n",
              "      <th>BMI</th>\n",
              "    </tr>\n",
              "    <tr>\n",
              "      <th>ID</th>\n",
              "      <th></th>\n",
              "      <th></th>\n",
              "      <th></th>\n",
              "      <th></th>\n",
              "      <th></th>\n",
              "      <th></th>\n",
              "      <th></th>\n",
              "      <th></th>\n",
              "    </tr>\n",
              "  </thead>\n",
              "  <tbody>\n",
              "    <tr>\n",
              "      <th>5</th>\n",
              "      <td>9.0</td>\n",
              "      <td>80.0</td>\n",
              "      <td>173.0</td>\n",
              "      <td>40.0</td>\n",
              "      <td>0</td>\n",
              "      <td>32.0</td>\n",
              "      <td>Healthy</td>\n",
              "      <td>26.729927</td>\n",
              "    </tr>\n",
              "    <tr>\n",
              "      <th>6</th>\n",
              "      <td>2.0</td>\n",
              "      <td>109.0</td>\n",
              "      <td>190.0</td>\n",
              "      <td>42.0</td>\n",
              "      <td>0</td>\n",
              "      <td>32.0</td>\n",
              "      <td>Healthy</td>\n",
              "      <td>30.193906</td>\n",
              "    </tr>\n",
              "    <tr>\n",
              "      <th>7</th>\n",
              "      <td>34.0</td>\n",
              "      <td>86.0</td>\n",
              "      <td>169.0</td>\n",
              "      <td>42.0</td>\n",
              "      <td>0</td>\n",
              "      <td>39.0</td>\n",
              "      <td>Severe</td>\n",
              "      <td>30.110991</td>\n",
              "    </tr>\n",
              "    <tr>\n",
              "      <th>8</th>\n",
              "      <td>60.0</td>\n",
              "      <td>145.0</td>\n",
              "      <td>172.0</td>\n",
              "      <td>44.0</td>\n",
              "      <td>0</td>\n",
              "      <td>47.0</td>\n",
              "      <td>Severe</td>\n",
              "      <td>49.012980</td>\n",
              "    </tr>\n",
              "    <tr>\n",
              "      <th>13</th>\n",
              "      <td>3.7</td>\n",
              "      <td>90.0</td>\n",
              "      <td>180.0</td>\n",
              "      <td>40.0</td>\n",
              "      <td>0</td>\n",
              "      <td>36.0</td>\n",
              "      <td>Healthy</td>\n",
              "      <td>27.777778</td>\n",
              "    </tr>\n",
              "    <tr>\n",
              "      <th>20</th>\n",
              "      <td>4.3</td>\n",
              "      <td>89.0</td>\n",
              "      <td>171.0</td>\n",
              "      <td>45.0</td>\n",
              "      <td>0</td>\n",
              "      <td>44.0</td>\n",
              "      <td>Healthy</td>\n",
              "      <td>30.436716</td>\n",
              "    </tr>\n",
              "    <tr>\n",
              "      <th>22</th>\n",
              "      <td>56.0</td>\n",
              "      <td>113.0</td>\n",
              "      <td>177.0</td>\n",
              "      <td>46.0</td>\n",
              "      <td>0</td>\n",
              "      <td>33.0</td>\n",
              "      <td>Severe</td>\n",
              "      <td>36.068818</td>\n",
              "    </tr>\n",
              "    <tr>\n",
              "      <th>24</th>\n",
              "      <td>53.6</td>\n",
              "      <td>107.0</td>\n",
              "      <td>170.0</td>\n",
              "      <td>46.0</td>\n",
              "      <td>0</td>\n",
              "      <td>48.0</td>\n",
              "      <td>Severe</td>\n",
              "      <td>37.024221</td>\n",
              "    </tr>\n",
              "    <tr>\n",
              "      <th>25</th>\n",
              "      <td>2.1</td>\n",
              "      <td>70.0</td>\n",
              "      <td>174.0</td>\n",
              "      <td>38.0</td>\n",
              "      <td>0</td>\n",
              "      <td>53.0</td>\n",
              "      <td>Healthy</td>\n",
              "      <td>23.120624</td>\n",
              "    </tr>\n",
              "    <tr>\n",
              "      <th>27</th>\n",
              "      <td>47.0</td>\n",
              "      <td>100.0</td>\n",
              "      <td>180.0</td>\n",
              "      <td>48.0</td>\n",
              "      <td>0</td>\n",
              "      <td>62.0</td>\n",
              "      <td>Severe</td>\n",
              "      <td>30.864198</td>\n",
              "    </tr>\n",
              "  </tbody>\n",
              "</table>\n",
              "</div>"
            ],
            "text/plain": [
              "     IAH  Weight  Height  Cervical  Gender   Age      OSA        BMI\n",
              "ID                                                                  \n",
              "5    9.0    80.0   173.0      40.0       0  32.0  Healthy  26.729927\n",
              "6    2.0   109.0   190.0      42.0       0  32.0  Healthy  30.193906\n",
              "7   34.0    86.0   169.0      42.0       0  39.0   Severe  30.110991\n",
              "8   60.0   145.0   172.0      44.0       0  47.0   Severe  49.012980\n",
              "13   3.7    90.0   180.0      40.0       0  36.0  Healthy  27.777778\n",
              "20   4.3    89.0   171.0      45.0       0  44.0  Healthy  30.436716\n",
              "22  56.0   113.0   177.0      46.0       0  33.0   Severe  36.068818\n",
              "24  53.6   107.0   170.0      46.0       0  48.0   Severe  37.024221\n",
              "25   2.1    70.0   174.0      38.0       0  53.0  Healthy  23.120624\n",
              "27  47.0   100.0   180.0      48.0       0  62.0   Severe  30.864198"
            ]
          },
          "metadata": {},
          "execution_count": 34
        }
      ]
    },
    {
      "cell_type": "code",
      "metadata": {
        "colab": {
          "base_uri": "https://localhost:8080/",
          "height": 195
        },
        "id": "AwdvNq_A20a6",
        "outputId": "1f1d5ac6-2537-455c-9280-6b2710ea60f0"
      },
      "source": [
        "df_OSA_male_extreme.groupby('OSA').describe()"
      ],
      "execution_count": 36,
      "outputs": [
        {
          "output_type": "execute_result",
          "data": {
            "text/html": [
              "<div>\n",
              "<style scoped>\n",
              "    .dataframe tbody tr th:only-of-type {\n",
              "        vertical-align: middle;\n",
              "    }\n",
              "\n",
              "    .dataframe tbody tr th {\n",
              "        vertical-align: top;\n",
              "    }\n",
              "\n",
              "    .dataframe thead tr th {\n",
              "        text-align: left;\n",
              "    }\n",
              "\n",
              "    .dataframe thead tr:last-of-type th {\n",
              "        text-align: right;\n",
              "    }\n",
              "</style>\n",
              "<table border=\"1\" class=\"dataframe\">\n",
              "  <thead>\n",
              "    <tr>\n",
              "      <th></th>\n",
              "      <th colspan=\"8\" halign=\"left\">IAH</th>\n",
              "      <th colspan=\"8\" halign=\"left\">Weight</th>\n",
              "      <th colspan=\"8\" halign=\"left\">Height</th>\n",
              "      <th colspan=\"8\" halign=\"left\">Cervical</th>\n",
              "      <th colspan=\"8\" halign=\"left\">Gender</th>\n",
              "      <th colspan=\"8\" halign=\"left\">Age</th>\n",
              "      <th colspan=\"8\" halign=\"left\">BMI</th>\n",
              "    </tr>\n",
              "    <tr>\n",
              "      <th></th>\n",
              "      <th>count</th>\n",
              "      <th>mean</th>\n",
              "      <th>std</th>\n",
              "      <th>min</th>\n",
              "      <th>25%</th>\n",
              "      <th>50%</th>\n",
              "      <th>75%</th>\n",
              "      <th>max</th>\n",
              "      <th>count</th>\n",
              "      <th>mean</th>\n",
              "      <th>std</th>\n",
              "      <th>min</th>\n",
              "      <th>25%</th>\n",
              "      <th>50%</th>\n",
              "      <th>75%</th>\n",
              "      <th>max</th>\n",
              "      <th>count</th>\n",
              "      <th>mean</th>\n",
              "      <th>std</th>\n",
              "      <th>min</th>\n",
              "      <th>25%</th>\n",
              "      <th>50%</th>\n",
              "      <th>75%</th>\n",
              "      <th>max</th>\n",
              "      <th>count</th>\n",
              "      <th>mean</th>\n",
              "      <th>std</th>\n",
              "      <th>min</th>\n",
              "      <th>25%</th>\n",
              "      <th>50%</th>\n",
              "      <th>75%</th>\n",
              "      <th>max</th>\n",
              "      <th>count</th>\n",
              "      <th>mean</th>\n",
              "      <th>std</th>\n",
              "      <th>min</th>\n",
              "      <th>25%</th>\n",
              "      <th>50%</th>\n",
              "      <th>75%</th>\n",
              "      <th>max</th>\n",
              "      <th>count</th>\n",
              "      <th>mean</th>\n",
              "      <th>std</th>\n",
              "      <th>min</th>\n",
              "      <th>25%</th>\n",
              "      <th>50%</th>\n",
              "      <th>75%</th>\n",
              "      <th>max</th>\n",
              "      <th>count</th>\n",
              "      <th>mean</th>\n",
              "      <th>std</th>\n",
              "      <th>min</th>\n",
              "      <th>25%</th>\n",
              "      <th>50%</th>\n",
              "      <th>75%</th>\n",
              "      <th>max</th>\n",
              "    </tr>\n",
              "    <tr>\n",
              "      <th>OSA</th>\n",
              "      <th></th>\n",
              "      <th></th>\n",
              "      <th></th>\n",
              "      <th></th>\n",
              "      <th></th>\n",
              "      <th></th>\n",
              "      <th></th>\n",
              "      <th></th>\n",
              "      <th></th>\n",
              "      <th></th>\n",
              "      <th></th>\n",
              "      <th></th>\n",
              "      <th></th>\n",
              "      <th></th>\n",
              "      <th></th>\n",
              "      <th></th>\n",
              "      <th></th>\n",
              "      <th></th>\n",
              "      <th></th>\n",
              "      <th></th>\n",
              "      <th></th>\n",
              "      <th></th>\n",
              "      <th></th>\n",
              "      <th></th>\n",
              "      <th></th>\n",
              "      <th></th>\n",
              "      <th></th>\n",
              "      <th></th>\n",
              "      <th></th>\n",
              "      <th></th>\n",
              "      <th></th>\n",
              "      <th></th>\n",
              "      <th></th>\n",
              "      <th></th>\n",
              "      <th></th>\n",
              "      <th></th>\n",
              "      <th></th>\n",
              "      <th></th>\n",
              "      <th></th>\n",
              "      <th></th>\n",
              "      <th></th>\n",
              "      <th></th>\n",
              "      <th></th>\n",
              "      <th></th>\n",
              "      <th></th>\n",
              "      <th></th>\n",
              "      <th></th>\n",
              "      <th></th>\n",
              "      <th></th>\n",
              "      <th></th>\n",
              "      <th></th>\n",
              "      <th></th>\n",
              "      <th></th>\n",
              "      <th></th>\n",
              "      <th></th>\n",
              "      <th></th>\n",
              "    </tr>\n",
              "  </thead>\n",
              "  <tbody>\n",
              "    <tr>\n",
              "      <th>Healthy</th>\n",
              "      <td>132.0</td>\n",
              "      <td>5.046970</td>\n",
              "      <td>3.065305</td>\n",
              "      <td>0.0</td>\n",
              "      <td>2.600</td>\n",
              "      <td>4.85</td>\n",
              "      <td>8.0</td>\n",
              "      <td>10.0</td>\n",
              "      <td>132.0</td>\n",
              "      <td>85.901515</td>\n",
              "      <td>13.832620</td>\n",
              "      <td>61.0</td>\n",
              "      <td>75.0</td>\n",
              "      <td>85.0</td>\n",
              "      <td>92.25</td>\n",
              "      <td>140.0</td>\n",
              "      <td>132.0</td>\n",
              "      <td>175.606061</td>\n",
              "      <td>7.711157</td>\n",
              "      <td>160.0</td>\n",
              "      <td>170.0</td>\n",
              "      <td>175.0</td>\n",
              "      <td>180.0</td>\n",
              "      <td>195.0</td>\n",
              "      <td>132.0</td>\n",
              "      <td>40.825758</td>\n",
              "      <td>2.810819</td>\n",
              "      <td>35.0</td>\n",
              "      <td>39.0</td>\n",
              "      <td>41.0</td>\n",
              "      <td>43.0</td>\n",
              "      <td>50.0</td>\n",
              "      <td>132.0</td>\n",
              "      <td>0.0</td>\n",
              "      <td>0.0</td>\n",
              "      <td>0.0</td>\n",
              "      <td>0.0</td>\n",
              "      <td>0.0</td>\n",
              "      <td>0.0</td>\n",
              "      <td>0.0</td>\n",
              "      <td>132.0</td>\n",
              "      <td>43.704545</td>\n",
              "      <td>11.223434</td>\n",
              "      <td>22.0</td>\n",
              "      <td>35.0</td>\n",
              "      <td>41.5</td>\n",
              "      <td>52.25</td>\n",
              "      <td>75.0</td>\n",
              "      <td>132.0</td>\n",
              "      <td>27.845923</td>\n",
              "      <td>4.049776</td>\n",
              "      <td>20.619254</td>\n",
              "      <td>24.961156</td>\n",
              "      <td>26.868063</td>\n",
              "      <td>30.096999</td>\n",
              "      <td>43.428571</td>\n",
              "    </tr>\n",
              "    <tr>\n",
              "      <th>Severe</th>\n",
              "      <td>128.0</td>\n",
              "      <td>45.053594</td>\n",
              "      <td>14.186095</td>\n",
              "      <td>30.0</td>\n",
              "      <td>34.225</td>\n",
              "      <td>40.40</td>\n",
              "      <td>53.0</td>\n",
              "      <td>102.0</td>\n",
              "      <td>128.0</td>\n",
              "      <td>99.117188</td>\n",
              "      <td>21.006419</td>\n",
              "      <td>61.0</td>\n",
              "      <td>85.0</td>\n",
              "      <td>95.0</td>\n",
              "      <td>110.00</td>\n",
              "      <td>162.0</td>\n",
              "      <td>128.0</td>\n",
              "      <td>175.218750</td>\n",
              "      <td>7.091014</td>\n",
              "      <td>152.0</td>\n",
              "      <td>170.0</td>\n",
              "      <td>175.0</td>\n",
              "      <td>180.0</td>\n",
              "      <td>197.0</td>\n",
              "      <td>128.0</td>\n",
              "      <td>43.531250</td>\n",
              "      <td>3.466232</td>\n",
              "      <td>34.0</td>\n",
              "      <td>42.0</td>\n",
              "      <td>43.5</td>\n",
              "      <td>46.0</td>\n",
              "      <td>53.0</td>\n",
              "      <td>128.0</td>\n",
              "      <td>0.0</td>\n",
              "      <td>0.0</td>\n",
              "      <td>0.0</td>\n",
              "      <td>0.0</td>\n",
              "      <td>0.0</td>\n",
              "      <td>0.0</td>\n",
              "      <td>0.0</td>\n",
              "      <td>128.0</td>\n",
              "      <td>51.210938</td>\n",
              "      <td>12.191808</td>\n",
              "      <td>29.0</td>\n",
              "      <td>41.0</td>\n",
              "      <td>49.0</td>\n",
              "      <td>60.00</td>\n",
              "      <td>80.0</td>\n",
              "      <td>128.0</td>\n",
              "      <td>32.179833</td>\n",
              "      <td>6.028655</td>\n",
              "      <td>21.357796</td>\n",
              "      <td>28.058609</td>\n",
              "      <td>30.985601</td>\n",
              "      <td>35.093804</td>\n",
              "      <td>52.298554</td>\n",
              "    </tr>\n",
              "  </tbody>\n",
              "</table>\n",
              "</div>"
            ],
            "text/plain": [
              "           IAH                        ...        BMI                      \n",
              "         count       mean        std  ...        50%        75%        max\n",
              "OSA                                   ...                                 \n",
              "Healthy  132.0   5.046970   3.065305  ...  26.868063  30.096999  43.428571\n",
              "Severe   128.0  45.053594  14.186095  ...  30.985601  35.093804  52.298554\n",
              "\n",
              "[2 rows x 56 columns]"
            ]
          },
          "metadata": {},
          "execution_count": 36
        }
      ]
    },
    {
      "cell_type": "code",
      "metadata": {
        "colab": {
          "base_uri": "https://localhost:8080/",
          "height": 337
        },
        "id": "g275RueG3XDs",
        "outputId": "28080c94-8330-4dc8-8017-29df14888ccd"
      },
      "source": [
        "df_OSA_male_extreme.groupby('OSA')['Age'].hist()"
      ],
      "execution_count": 39,
      "outputs": [
        {
          "output_type": "execute_result",
          "data": {
            "text/plain": [
              "OSA\n",
              "Healthy    AxesSubplot(0.125,0.125;0.775x0.755)\n",
              "Severe     AxesSubplot(0.125,0.125;0.775x0.755)\n",
              "Name: Age, dtype: object"
            ]
          },
          "metadata": {},
          "execution_count": 39
        },
        {
          "output_type": "display_data",
          "data": {
            "image/png": "[encoded data removed]",
            "text/plain": [
              "<Figure size 432x288 with 1 Axes>"
            ]
          },
          "metadata": {
            "needs_background": "light"
          }
        }
      ]
    },
    {
      "cell_type": "code",
      "metadata": {
        "id": "3C3B63yc4hZ0"
      },
      "source": [
        "from scipy import stats\n",
        "\n",
        "group1 = df_OSA_male_extreme.where(df_OSA_male_extreme.OSA== 'Healthy').dropna()['Age']\n",
        "group2 = df_OSA_male_extreme.where(df_OSA_male_extreme.OSA== 'Severe').dropna()['Age']\n"
      ],
      "execution_count": null,
      "outputs": []
    },
    {
      "cell_type": "code",
      "metadata": {
        "colab": {
          "base_uri": "https://localhost:8080/"
        },
        "id": "O228v5Wk64oy",
        "outputId": "ec9273dd-c5ee-4570-a5d0-9ef60fb24e9c"
      },
      "source": [
        "stats.ttest_ind(group1,group2)"
      ],
      "execution_count": null,
      "outputs": [
        {
          "output_type": "execute_result",
          "data": {
            "text/plain": [
              "Ttest_indResult(statistic=-5.122076517455765, pvalue=5.681249768299164e-07)"
            ]
          },
          "metadata": {},
          "execution_count": 21
        }
      ]
    },
    {
      "cell_type": "code",
      "metadata": {
        "colab": {
          "base_uri": "https://localhost:8080/"
        },
        "id": "Xvth3uGw7rk0",
        "outputId": "ab981c21-28dd-4914-9454-3d87701a77e9"
      },
      "source": [
        "stats.mannwhitneyu(group1,group2)"
      ],
      "execution_count": null,
      "outputs": [
        {
          "output_type": "execute_result",
          "data": {
            "text/plain": [
              "MannwhitneyuResult(statistic=6365.5, pvalue=4.4396124914521145e-07)"
            ]
          },
          "metadata": {},
          "execution_count": 22
        }
      ]
    }
  ]
}