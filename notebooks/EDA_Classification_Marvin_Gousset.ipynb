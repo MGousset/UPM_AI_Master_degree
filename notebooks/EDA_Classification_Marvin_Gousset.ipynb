{
  "nbformat": 4,
  "nbformat_minor": 0,
  "metadata": {
    "colab": {
      "name": "EDA_Classification_Marvin_Gousset.ipynb",
      "provenance": [],
      "collapsed_sections": []
    },
    "kernelspec": {
      "display_name": "Python 3",
      "language": "python",
      "name": "python3"
    },
    "language_info": {
      "codemirror_mode": {
        "name": "ipython",
        "version": 3
      },
      "file_extension": ".py",
      "mimetype": "text/x-python",
      "name": "python",
      "nbconvert_exporter": "python",
      "pygments_lexer": "ipython3",
      "version": "3.7.3"
    }
  },
  "cells": [
    {
      "cell_type": "code",
      "metadata": {
        "id": "29leoi91dnfV"
      },
      "source": [
        "#Define Constante\n",
        "DIR = \"/content/drive/MyDrive/Colab Notebooks/UPM/PRDL/EDA/\"\n",
        "\n",
        "#importation\n",
        "import numpy as np\n",
        "from pandas.plotting import scatter_matrix\n",
        "from google.colab import drive\n",
        "import os\n",
        "import pandas as pd\n",
        "from sklearn.metrics import confusion_matrix, accuracy_score\n",
        "import matplotlib.pyplot as plt\n",
        "from sklearn import linear_model, neighbors, svm\n",
        "from sklearn.tree import DecisionTreeClassifier\n",
        "from sklearn.ensemble import RandomForestClassifier\n",
        "import math"
      ],
      "execution_count": 88,
      "outputs": []
    },
    {
      "cell_type": "code",
      "metadata": {
        "id": "jxYNi82tdvch"
      },
      "source": [
        "def importData():\n",
        "  drive.mount(\"/content/drive\")\n",
        "  \n",
        "  #Change directory\n",
        "  os.chdir(DIR)\n",
        "\n",
        "  # Read Clinical Data\n",
        "  OSA_Clinical_df = pd.read_csv(\"OSA_DB_UPM_Clinical.csv\",sep=';',na_values=['-1'])\n",
        "  OSA_Clinical_df=OSA_Clinical_df.dropna()\n",
        "\n",
        "  # Now Read Demographical Information\n",
        "  OSA_Demo_df = pd.read_csv(\"OSA_DB_UPM_Age_Gender.csv\",na_values=['-1'])\n",
        "  OSA_Demo_df=OSA_Demo_df.dropna()\n",
        "\n",
        "  # JOIN OSA_Demo_df and OSA_Clinical_df\n",
        "  OSA_df = pd.merge(OSA_Clinical_df, OSA_Demo_df, on='ID', how='inner')\n",
        "\n",
        "  OSA_df['ID'] = OSA_df['ID'].astype('str')\n",
        "  OSA_df = OSA_df.set_index('ID')\n",
        "\n",
        "  #Only treat male gender\n",
        "  df_OSA_male = OSA_df.loc[OSA_df['Gender'] == 0]\n",
        "\n",
        "  conditions = [\n",
        "      (df_OSA_male['IAH'] <= 10),\n",
        "      (df_OSA_male['IAH'] > 10) & (df_OSA_male['IAH'] < 30),\n",
        "      (df_OSA_male['IAH'] >= 30)\n",
        "      ]\n",
        "\n",
        "  # create a list of the values we want to assign for each condition\n",
        "  values = ['Healthy', 'Mild', 'Severe']\n",
        "\n",
        "  # create a new column and use np.select to assign values to it using our lists as arguments\n",
        "  # NOTE: we use select() from numpy\n",
        "  df_OSA_male['OSA'] = np.select(conditions, values)\n",
        "\n",
        "  #Remove Mild class\n",
        "  df_OSA_male_extreme = df_OSA_male.loc[df_OSA_male['OSA'] != 'Mild']\n",
        "\n",
        "  #Creating BMI column\n",
        "  df_OSA_male_extreme['BMI'] =  df_OSA_male_extreme['Weight'] / (df_OSA_male_extreme['Height']/100.0)**2\n",
        "  return df_OSA_male_extreme"
      ],
      "execution_count": 11,
      "outputs": []
    },
    {
      "cell_type": "code",
      "metadata": {
        "id": "SsSV9JdVd5pA"
      },
      "source": [
        "def splitData(dataSet):\n",
        "  # Splitting into train and test sets\n",
        "\n",
        "  # Generate the training set.  Set random_state to be able to replicate results.\n",
        "  train = dataSet.sample(frac=0.8, random_state=1)\n",
        "\n",
        "  # Select anything not in the training set and put it in the testing set.\n",
        "  test = dataSet.loc[~dataSet.index.isin(train.index)]\n",
        "\n",
        "  # Print the shapes of both sets.\n",
        "  #print(train.shape)\n",
        "  #print(test.shape)\n",
        "  \n",
        "  return train, test"
      ],
      "execution_count": 3,
      "outputs": []
    },
    {
      "cell_type": "code",
      "metadata": {
        "id": "sK9G3MZNd7xz"
      },
      "source": [
        "def model_training(model, features, output):\n",
        "  # Fit the model to the training data.\n",
        "  Trained_model=model.fit(features, output)\n",
        "  return Trained_model"
      ],
      "execution_count": 4,
      "outputs": []
    },
    {
      "cell_type": "code",
      "metadata": {
        "id": "bhnN6hsTd-bL"
      },
      "source": [
        "def model_testing(model, features, output):\n",
        "  ### Predicting Error\n",
        "\n",
        "  # Generate our predictions for the test set.\n",
        "  predictions = model.predict(features)\n",
        "\n",
        "  # Compute accuracy between our test predictions and the actual values.\n",
        "  acc=accuracy_score(predictions, output)       \n",
        "  print('Accuracy: ', acc)\n",
        "\n",
        "  # Plot confusion matrix\n",
        "  print(confusion_matrix(predictions, output))\n",
        "  #plt.show()"
      ],
      "execution_count": 72,
      "outputs": []
    },
    {
      "cell_type": "code",
      "metadata": {
        "id": "3tclbkAuepJ9"
      },
      "source": [
        "def training_process(model, predictors, target, data):\n",
        "  print(\"Model : \", type(model))\n",
        "  print('Predictor : ', predictors)\n",
        "  print(\"Target : \", target)\n",
        "  #Split Date into Training and testing dataset, Train and Test the model on those\n",
        "  train, test = splitData(data)\n",
        "  model = model_training(model, train[predictors], train[target])\n",
        "  model_testing(model, test[predictors], test[target])"
      ],
      "execution_count": 6,
      "outputs": []
    },
    {
      "cell_type": "markdown",
      "metadata": {
        "id": "Vdcndnvsfppd"
      },
      "source": [
        "##Now We are going to explore the data (EDA)"
      ]
    },
    {
      "cell_type": "code",
      "metadata": {
        "colab": {
          "base_uri": "https://localhost:8080/",
          "height": 395
        },
        "id": "ZH74_oFueBDD",
        "outputId": "927c1d26-492b-4a57-db3a-463d0c24c88d"
      },
      "source": [
        "df = importData()\n",
        "df.groupby('OSA').describe()"
      ],
      "execution_count": 42,
      "outputs": [
        {
          "output_type": "stream",
          "name": "stdout",
          "text": [
            "Drive already mounted at /content/drive; to attempt to forcibly remount, call drive.mount(\"/content/drive\", force_remount=True).\n"
          ]
        },
        {
          "output_type": "stream",
          "name": "stderr",
          "text": [
            "/usr/local/lib/python3.7/dist-packages/ipykernel_launcher.py:35: SettingWithCopyWarning: \n",
            "A value is trying to be set on a copy of a slice from a DataFrame.\n",
            "Try using .loc[row_indexer,col_indexer] = value instead\n",
            "\n",
            "See the caveats in the documentation: https://pandas.pydata.org/pandas-docs/stable/user_guide/indexing.html#returning-a-view-versus-a-copy\n",
            "/usr/local/lib/python3.7/dist-packages/ipykernel_launcher.py:41: SettingWithCopyWarning: \n",
            "A value is trying to be set on a copy of a slice from a DataFrame.\n",
            "Try using .loc[row_indexer,col_indexer] = value instead\n",
            "\n",
            "See the caveats in the documentation: https://pandas.pydata.org/pandas-docs/stable/user_guide/indexing.html#returning-a-view-versus-a-copy\n"
          ]
        },
        {
          "output_type": "execute_result",
          "data": {
            "text/html": [
              "<div>\n",
              "<style scoped>\n",
              "    .dataframe tbody tr th:only-of-type {\n",
              "        vertical-align: middle;\n",
              "    }\n",
              "\n",
              "    .dataframe tbody tr th {\n",
              "        vertical-align: top;\n",
              "    }\n",
              "\n",
              "    .dataframe thead tr th {\n",
              "        text-align: left;\n",
              "    }\n",
              "\n",
              "    .dataframe thead tr:last-of-type th {\n",
              "        text-align: right;\n",
              "    }\n",
              "</style>\n",
              "<table border=\"1\" class=\"dataframe\">\n",
              "  <thead>\n",
              "    <tr>\n",
              "      <th></th>\n",
              "      <th colspan=\"8\" halign=\"left\">IAH</th>\n",
              "      <th colspan=\"8\" halign=\"left\">Weight</th>\n",
              "      <th colspan=\"8\" halign=\"left\">Height</th>\n",
              "      <th colspan=\"8\" halign=\"left\">Cervical</th>\n",
              "      <th colspan=\"8\" halign=\"left\">Gender</th>\n",
              "      <th colspan=\"8\" halign=\"left\">Age</th>\n",
              "      <th colspan=\"8\" halign=\"left\">BMI</th>\n",
              "    </tr>\n",
              "    <tr>\n",
              "      <th></th>\n",
              "      <th>count</th>\n",
              "      <th>mean</th>\n",
              "      <th>std</th>\n",
              "      <th>min</th>\n",
              "      <th>25%</th>\n",
              "      <th>50%</th>\n",
              "      <th>75%</th>\n",
              "      <th>max</th>\n",
              "      <th>count</th>\n",
              "      <th>mean</th>\n",
              "      <th>std</th>\n",
              "      <th>min</th>\n",
              "      <th>25%</th>\n",
              "      <th>50%</th>\n",
              "      <th>75%</th>\n",
              "      <th>max</th>\n",
              "      <th>count</th>\n",
              "      <th>mean</th>\n",
              "      <th>std</th>\n",
              "      <th>min</th>\n",
              "      <th>25%</th>\n",
              "      <th>50%</th>\n",
              "      <th>75%</th>\n",
              "      <th>max</th>\n",
              "      <th>count</th>\n",
              "      <th>mean</th>\n",
              "      <th>std</th>\n",
              "      <th>min</th>\n",
              "      <th>25%</th>\n",
              "      <th>50%</th>\n",
              "      <th>75%</th>\n",
              "      <th>max</th>\n",
              "      <th>count</th>\n",
              "      <th>mean</th>\n",
              "      <th>std</th>\n",
              "      <th>min</th>\n",
              "      <th>25%</th>\n",
              "      <th>50%</th>\n",
              "      <th>75%</th>\n",
              "      <th>max</th>\n",
              "      <th>count</th>\n",
              "      <th>mean</th>\n",
              "      <th>std</th>\n",
              "      <th>min</th>\n",
              "      <th>25%</th>\n",
              "      <th>50%</th>\n",
              "      <th>75%</th>\n",
              "      <th>max</th>\n",
              "      <th>count</th>\n",
              "      <th>mean</th>\n",
              "      <th>std</th>\n",
              "      <th>min</th>\n",
              "      <th>25%</th>\n",
              "      <th>50%</th>\n",
              "      <th>75%</th>\n",
              "      <th>max</th>\n",
              "    </tr>\n",
              "    <tr>\n",
              "      <th>OSA</th>\n",
              "      <th></th>\n",
              "      <th></th>\n",
              "      <th></th>\n",
              "      <th></th>\n",
              "      <th></th>\n",
              "      <th></th>\n",
              "      <th></th>\n",
              "      <th></th>\n",
              "      <th></th>\n",
              "      <th></th>\n",
              "      <th></th>\n",
              "      <th></th>\n",
              "      <th></th>\n",
              "      <th></th>\n",
              "      <th></th>\n",
              "      <th></th>\n",
              "      <th></th>\n",
              "      <th></th>\n",
              "      <th></th>\n",
              "      <th></th>\n",
              "      <th></th>\n",
              "      <th></th>\n",
              "      <th></th>\n",
              "      <th></th>\n",
              "      <th></th>\n",
              "      <th></th>\n",
              "      <th></th>\n",
              "      <th></th>\n",
              "      <th></th>\n",
              "      <th></th>\n",
              "      <th></th>\n",
              "      <th></th>\n",
              "      <th></th>\n",
              "      <th></th>\n",
              "      <th></th>\n",
              "      <th></th>\n",
              "      <th></th>\n",
              "      <th></th>\n",
              "      <th></th>\n",
              "      <th></th>\n",
              "      <th></th>\n",
              "      <th></th>\n",
              "      <th></th>\n",
              "      <th></th>\n",
              "      <th></th>\n",
              "      <th></th>\n",
              "      <th></th>\n",
              "      <th></th>\n",
              "      <th></th>\n",
              "      <th></th>\n",
              "      <th></th>\n",
              "      <th></th>\n",
              "      <th></th>\n",
              "      <th></th>\n",
              "      <th></th>\n",
              "      <th></th>\n",
              "    </tr>\n",
              "  </thead>\n",
              "  <tbody>\n",
              "    <tr>\n",
              "      <th>Healthy</th>\n",
              "      <td>132.0</td>\n",
              "      <td>5.046970</td>\n",
              "      <td>3.065305</td>\n",
              "      <td>0.0</td>\n",
              "      <td>2.600</td>\n",
              "      <td>4.85</td>\n",
              "      <td>8.0</td>\n",
              "      <td>10.0</td>\n",
              "      <td>132.0</td>\n",
              "      <td>85.901515</td>\n",
              "      <td>13.832620</td>\n",
              "      <td>61.0</td>\n",
              "      <td>75.0</td>\n",
              "      <td>85.0</td>\n",
              "      <td>92.25</td>\n",
              "      <td>140.0</td>\n",
              "      <td>132.0</td>\n",
              "      <td>175.606061</td>\n",
              "      <td>7.711157</td>\n",
              "      <td>160.0</td>\n",
              "      <td>170.0</td>\n",
              "      <td>175.0</td>\n",
              "      <td>180.0</td>\n",
              "      <td>195.0</td>\n",
              "      <td>132.0</td>\n",
              "      <td>40.825758</td>\n",
              "      <td>2.810819</td>\n",
              "      <td>35.0</td>\n",
              "      <td>39.0</td>\n",
              "      <td>41.0</td>\n",
              "      <td>43.0</td>\n",
              "      <td>50.0</td>\n",
              "      <td>132.0</td>\n",
              "      <td>0.0</td>\n",
              "      <td>0.0</td>\n",
              "      <td>0.0</td>\n",
              "      <td>0.0</td>\n",
              "      <td>0.0</td>\n",
              "      <td>0.0</td>\n",
              "      <td>0.0</td>\n",
              "      <td>132.0</td>\n",
              "      <td>43.704545</td>\n",
              "      <td>11.223434</td>\n",
              "      <td>22.0</td>\n",
              "      <td>35.0</td>\n",
              "      <td>41.5</td>\n",
              "      <td>52.25</td>\n",
              "      <td>75.0</td>\n",
              "      <td>132.0</td>\n",
              "      <td>27.845923</td>\n",
              "      <td>4.049776</td>\n",
              "      <td>20.619254</td>\n",
              "      <td>24.961156</td>\n",
              "      <td>26.868063</td>\n",
              "      <td>30.096999</td>\n",
              "      <td>43.428571</td>\n",
              "    </tr>\n",
              "    <tr>\n",
              "      <th>Severe</th>\n",
              "      <td>128.0</td>\n",
              "      <td>45.053594</td>\n",
              "      <td>14.186095</td>\n",
              "      <td>30.0</td>\n",
              "      <td>34.225</td>\n",
              "      <td>40.40</td>\n",
              "      <td>53.0</td>\n",
              "      <td>102.0</td>\n",
              "      <td>128.0</td>\n",
              "      <td>99.117188</td>\n",
              "      <td>21.006419</td>\n",
              "      <td>61.0</td>\n",
              "      <td>85.0</td>\n",
              "      <td>95.0</td>\n",
              "      <td>110.00</td>\n",
              "      <td>162.0</td>\n",
              "      <td>128.0</td>\n",
              "      <td>175.218750</td>\n",
              "      <td>7.091014</td>\n",
              "      <td>152.0</td>\n",
              "      <td>170.0</td>\n",
              "      <td>175.0</td>\n",
              "      <td>180.0</td>\n",
              "      <td>197.0</td>\n",
              "      <td>128.0</td>\n",
              "      <td>43.531250</td>\n",
              "      <td>3.466232</td>\n",
              "      <td>34.0</td>\n",
              "      <td>42.0</td>\n",
              "      <td>43.5</td>\n",
              "      <td>46.0</td>\n",
              "      <td>53.0</td>\n",
              "      <td>128.0</td>\n",
              "      <td>0.0</td>\n",
              "      <td>0.0</td>\n",
              "      <td>0.0</td>\n",
              "      <td>0.0</td>\n",
              "      <td>0.0</td>\n",
              "      <td>0.0</td>\n",
              "      <td>0.0</td>\n",
              "      <td>128.0</td>\n",
              "      <td>51.210938</td>\n",
              "      <td>12.191808</td>\n",
              "      <td>29.0</td>\n",
              "      <td>41.0</td>\n",
              "      <td>49.0</td>\n",
              "      <td>60.00</td>\n",
              "      <td>80.0</td>\n",
              "      <td>128.0</td>\n",
              "      <td>32.179833</td>\n",
              "      <td>6.028655</td>\n",
              "      <td>21.357796</td>\n",
              "      <td>28.058609</td>\n",
              "      <td>30.985601</td>\n",
              "      <td>35.093804</td>\n",
              "      <td>52.298554</td>\n",
              "    </tr>\n",
              "  </tbody>\n",
              "</table>\n",
              "</div>"
            ],
            "text/plain": [
              "           IAH                        ...        BMI                      \n",
              "         count       mean        std  ...        50%        75%        max\n",
              "OSA                                   ...                                 \n",
              "Healthy  132.0   5.046970   3.065305  ...  26.868063  30.096999  43.428571\n",
              "Severe   128.0  45.053594  14.186095  ...  30.985601  35.093804  52.298554\n",
              "\n",
              "[2 rows x 56 columns]"
            ]
          },
          "metadata": {},
          "execution_count": 42
        }
      ]
    },
    {
      "cell_type": "code",
      "metadata": {
        "colab": {
          "base_uri": "https://localhost:8080/",
          "height": 337
        },
        "id": "g275RueG3XDs",
        "outputId": "a0f067d8-0492-4cd0-d5f5-997e329ae7af"
      },
      "source": [
        "df.groupby('OSA')['BMI'].hist()"
      ],
      "execution_count": 25,
      "outputs": [
        {
          "output_type": "execute_result",
          "data": {
            "text/plain": [
              "OSA\n",
              "Healthy    AxesSubplot(0.125,0.125;0.775x0.755)\n",
              "Severe     AxesSubplot(0.125,0.125;0.775x0.755)\n",
              "Name: BMI, dtype: object"
            ]
          },
          "metadata": {},
          "execution_count": 25
        },
        {
          "output_type": "display_data",
          "data": {
            "image/png": "[encoded data removed]",
            "text/plain": [
              "<Figure size 432x288 with 1 Axes>"
            ]
          },
          "metadata": {
            "needs_background": "light"
          }
        }
      ]
    },
    {
      "cell_type": "code",
      "metadata": {
        "id": "3C3B63yc4hZ0",
        "colab": {
          "base_uri": "https://localhost:8080/"
        },
        "outputId": "b790dbcf-a7ff-4d99-966c-5d06021d839a"
      },
      "source": [
        "from scipy import stats\n",
        "for column in ['Age', 'BMI', 'Cervical']:\n",
        "  group1 = df.where(df.OSA== 'Healthy').dropna()[column]\n",
        "  group2 = df.where(df.OSA== 'Severe').dropna()[column]\n",
        "  print(column,'p-value:', stats.ttest_ind(group1,group2)[1])\n"
      ],
      "execution_count": 38,
      "outputs": [
        {
          "output_type": "stream",
          "name": "stdout",
          "text": [
            "Age p-value: 4.7561243590568463e-07\n",
            "BMI p-value: 6.320437870715736e-11\n",
            "Cervical p-value: 3.5060457312045025e-11\n"
          ]
        }
      ]
    },
    {
      "cell_type": "code",
      "metadata": {
        "colab": {
          "base_uri": "https://localhost:8080/",
          "height": 1000
        },
        "id": "Xvth3uGw7rk0",
        "outputId": "532d5838-0112-4a14-d3bc-35c5ddc0a203"
      },
      "source": [
        "for column in ['Age', 'BMI', 'Cervical']:\n",
        "  df.boxplot(column=column, by='OSA')"
      ],
      "execution_count": 40,
      "outputs": [
        {
          "output_type": "stream",
          "name": "stderr",
          "text": [
            "/usr/local/lib/python3.7/dist-packages/numpy/core/_asarray.py:83: VisibleDeprecationWarning: Creating an ndarray from ragged nested sequences (which is a list-or-tuple of lists-or-tuples-or ndarrays with different lengths or shapes) is deprecated. If you meant to do this, you must specify 'dtype=object' when creating the ndarray\n",
            "  return array(a, dtype, copy=False, order=order)\n",
            "/usr/local/lib/python3.7/dist-packages/numpy/core/_asarray.py:83: VisibleDeprecationWarning: Creating an ndarray from ragged nested sequences (which is a list-or-tuple of lists-or-tuples-or ndarrays with different lengths or shapes) is deprecated. If you meant to do this, you must specify 'dtype=object' when creating the ndarray\n",
            "  return array(a, dtype, copy=False, order=order)\n",
            "/usr/local/lib/python3.7/dist-packages/numpy/core/_asarray.py:83: VisibleDeprecationWarning: Creating an ndarray from ragged nested sequences (which is a list-or-tuple of lists-or-tuples-or ndarrays with different lengths or shapes) is deprecated. If you meant to do this, you must specify 'dtype=object' when creating the ndarray\n",
            "  return array(a, dtype, copy=False, order=order)\n"
          ]
        },
        {
          "output_type": "stream",
          "name": "stdout",
          "text": [
            "\n",
            "\n",
            "\n"
          ]
        },
        {
          "output_type": "display_data",
          "data": {
            "image/png": "[encoded data removed]",
            "text/plain": [
              "<Figure size 432x288 with 1 Axes>"
            ]
          },
          "metadata": {
            "needs_background": "light"
          }
        },
        {
          "output_type": "display_data",
          "data": {
            "image/png": "[encoded data removed]",
            "text/plain": [
              "<Figure size 432x288 with 1 Axes>"
            ]
          },
          "metadata": {
            "needs_background": "light"
          }
        },
        {
          "output_type": "display_data",
          "data": {
            "image/png": "[encoded data removed]",
            "text/plain": [
              "<Figure size 432x288 with 1 Axes>"
            ]
          },
          "metadata": {
            "needs_background": "light"
          }
        }
      ]
    },
    {
      "cell_type": "code",
      "metadata": {
        "colab": {
          "base_uri": "https://localhost:8080/"
        },
        "id": "wA8bugFQnEf0",
        "outputId": "71900eb8-c93a-45a2-a91e-09225d8dd09f"
      },
      "source": [
        "#Define features and output\n",
        "predictors = ['BMI', 'Age', 'Cervical']\n",
        "target = 'OSA'\n",
        "\n",
        "# Define the model\n",
        "model = linear_model.LogisticRegression()\n",
        "training_process(model, predictors, target, df)"
      ],
      "execution_count": 85,
      "outputs": [
        {
          "output_type": "stream",
          "name": "stdout",
          "text": [
            "Model :  <class 'sklearn.linear_model._logistic.LogisticRegression'>\n",
            "Predictor :  ['BMI', 'Age', 'Cervical']\n",
            "Target :  OSA\n",
            "Accuracy:  0.6346153846153846\n",
            "[[19 12]\n",
            " [ 7 14]]\n"
          ]
        }
      ]
    },
    {
      "cell_type": "code",
      "metadata": {
        "id": "90oJxQshrlOV",
        "outputId": "b745bc51-a751-4d51-c6ad-a7ebdd493236",
        "colab": {
          "base_uri": "https://localhost:8080/"
        }
      },
      "source": [
        "#Define features and output\n",
        "predictors = ['BMI', 'Age', 'Cervical']\n",
        "target = 'OSA'\n",
        "\n",
        "# Define the model\n",
        "model = svm.SVC()\n",
        "training_process(model, predictors, target, df)"
      ],
      "execution_count": 115,
      "outputs": [
        {
          "output_type": "stream",
          "name": "stdout",
          "text": [
            "Model :  <class 'sklearn.svm._classes.SVC'>\n",
            "Predictor :  ['BMI', 'Age', 'Cervical']\n",
            "Target :  OSA\n",
            "Accuracy:  0.6923076923076923\n",
            "[[19  9]\n",
            " [ 7 17]]\n"
          ]
        }
      ]
    },
    {
      "cell_type": "code",
      "metadata": {
        "id": "8ayAhx3ZqiTL",
        "outputId": "8e9ee623-e8b7-45d3-c120-c12768642d0f",
        "colab": {
          "base_uri": "https://localhost:8080/"
        }
      },
      "source": [
        "#Define features and output\n",
        "predictors = ['BMI', 'Age', 'Cervical']\n",
        "target = 'OSA'\n",
        "\n",
        "# Define the model\n",
        "model = DecisionTreeClassifier(max_depth=15)\n",
        "training_process(model, predictors, target, df)"
      ],
      "execution_count": 118,
      "outputs": [
        {
          "output_type": "stream",
          "name": "stdout",
          "text": [
            "Model :  <class 'sklearn.tree._classes.DecisionTreeClassifier'>\n",
            "Predictor :  ['BMI', 'Age', 'Cervical']\n",
            "Target :  OSA\n",
            "Accuracy:  0.6923076923076923\n",
            "[[21 11]\n",
            " [ 5 15]]\n"
          ]
        }
      ]
    },
    {
      "cell_type": "code",
      "metadata": {
        "id": "Z4D6BvvCrAxm",
        "outputId": "056dc3b0-14e6-47c0-bd88-799f97a36aac",
        "colab": {
          "base_uri": "https://localhost:8080/"
        }
      },
      "source": [
        "#Define features and output\n",
        "predictors = ['BMI', 'Age', 'Cervical']\n",
        "target = 'OSA'\n",
        "\n",
        "# Define the model\n",
        "model = RandomForestClassifier(max_depth=10)\n",
        "training_process(model, predictors, target, df)"
      ],
      "execution_count": 106,
      "outputs": [
        {
          "output_type": "stream",
          "name": "stdout",
          "text": [
            "Model :  <class 'sklearn.ensemble._forest.RandomForestClassifier'>\n",
            "Predictor :  ['BMI', 'Age', 'Cervical']\n",
            "Target :  OSA\n",
            "Accuracy:  0.7115384615384616\n",
            "[[18  7]\n",
            " [ 8 19]]\n"
          ]
        }
      ]
    },
    {
      "cell_type": "code",
      "metadata": {
        "colab": {
          "base_uri": "https://localhost:8080/"
        },
        "id": "d2QYXxymi5tM",
        "outputId": "bc6600d0-991f-4336-a098-ca5d99702caf"
      },
      "source": [
        "#Define features and output\n",
        "predictors = ['BMI', 'Age', 'Cervical']\n",
        "target = 'OSA'\n",
        "\n",
        "# Define the model\n",
        "model = neighbors.KNeighborsClassifier(n_neighbors = 10, weights='uniform')\n",
        "training_process(model, predictors, target, df)"
      ],
      "execution_count": 86,
      "outputs": [
        {
          "output_type": "stream",
          "name": "stdout",
          "text": [
            "Model :  <class 'sklearn.neighbors._classification.KNeighborsClassifier'>\n",
            "Predictor :  ['BMI', 'Age', 'Cervical']\n",
            "Target :  OSA\n",
            "Accuracy:  0.7307692307692307\n",
            "[[21  9]\n",
            " [ 5 17]]\n"
          ]
        }
      ]
    }
  ]
}